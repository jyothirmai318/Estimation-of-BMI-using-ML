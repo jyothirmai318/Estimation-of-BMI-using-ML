{
 "cells": [
  {
   "cell_type": "markdown",
   "metadata": {},
   "source": [
    "# Libraries and Data"
   ]
  },
  {
   "cell_type": "code",
   "execution_count": 1,
   "metadata": {},
   "outputs": [],
   "source": [
    "from keras_facenet import FaceNet\n",
    "import numpy as np\n",
    "import seaborn as sns\n",
    "import pandas as pd\n",
    "import matplotlib.pyplot as plt\n",
    "import os"
   ]
  },
  {
   "cell_type": "code",
   "execution_count": 2,
   "metadata": {},
   "outputs": [],
   "source": [
    "data=pd.read_csv('E:/Face_2_BMI/Data/all_celeb/data.csv')"
   ]
  },
  {
   "cell_type": "code",
   "execution_count": 5,
   "metadata": {},
   "outputs": [
    {
     "data": {
      "text/html": [
       "<div>\n",
       "<style scoped>\n",
       "    .dataframe tbody tr th:only-of-type {\n",
       "        vertical-align: middle;\n",
       "    }\n",
       "\n",
       "    .dataframe tbody tr th {\n",
       "        vertical-align: top;\n",
       "    }\n",
       "\n",
       "    .dataframe thead th {\n",
       "        text-align: right;\n",
       "    }\n",
       "</style>\n",
       "<table border=\"1\" class=\"dataframe\">\n",
       "  <thead>\n",
       "    <tr style=\"text-align: right;\">\n",
       "      <th></th>\n",
       "      <th>image</th>\n",
       "      <th>height</th>\n",
       "      <th>weight</th>\n",
       "      <th>BMI</th>\n",
       "    </tr>\n",
       "  </thead>\n",
       "  <tbody>\n",
       "    <tr>\n",
       "      <th>0</th>\n",
       "      <td>m_001</td>\n",
       "      <td>1.85</td>\n",
       "      <td>80</td>\n",
       "      <td>23.374726</td>\n",
       "    </tr>\n",
       "    <tr>\n",
       "      <th>1</th>\n",
       "      <td>m_002</td>\n",
       "      <td>1.85</td>\n",
       "      <td>81</td>\n",
       "      <td>23.666910</td>\n",
       "    </tr>\n",
       "    <tr>\n",
       "      <th>2</th>\n",
       "      <td>m_003</td>\n",
       "      <td>1.84</td>\n",
       "      <td>79</td>\n",
       "      <td>23.334121</td>\n",
       "    </tr>\n",
       "    <tr>\n",
       "      <th>3</th>\n",
       "      <td>m_004</td>\n",
       "      <td>1.85</td>\n",
       "      <td>80</td>\n",
       "      <td>23.374726</td>\n",
       "    </tr>\n",
       "    <tr>\n",
       "      <th>4</th>\n",
       "      <td>m_005</td>\n",
       "      <td>1.85</td>\n",
       "      <td>80</td>\n",
       "      <td>23.374726</td>\n",
       "    </tr>\n",
       "    <tr>\n",
       "      <th>5</th>\n",
       "      <td>m_006</td>\n",
       "      <td>1.86</td>\n",
       "      <td>80</td>\n",
       "      <td>23.124061</td>\n",
       "    </tr>\n",
       "    <tr>\n",
       "      <th>6</th>\n",
       "      <td>m_007</td>\n",
       "      <td>1.84</td>\n",
       "      <td>81</td>\n",
       "      <td>23.924858</td>\n",
       "    </tr>\n",
       "    <tr>\n",
       "      <th>7</th>\n",
       "      <td>m_008</td>\n",
       "      <td>1.86</td>\n",
       "      <td>80</td>\n",
       "      <td>23.124061</td>\n",
       "    </tr>\n",
       "    <tr>\n",
       "      <th>8</th>\n",
       "      <td>m_009</td>\n",
       "      <td>1.85</td>\n",
       "      <td>79</td>\n",
       "      <td>23.082542</td>\n",
       "    </tr>\n",
       "    <tr>\n",
       "      <th>9</th>\n",
       "      <td>m_010</td>\n",
       "      <td>1.84</td>\n",
       "      <td>82</td>\n",
       "      <td>24.220227</td>\n",
       "    </tr>\n",
       "  </tbody>\n",
       "</table>\n",
       "</div>"
      ],
      "text/plain": [
       "   image  height  weight        BMI\n",
       "0  m_001    1.85      80  23.374726\n",
       "1  m_002    1.85      81  23.666910\n",
       "2  m_003    1.84      79  23.334121\n",
       "3  m_004    1.85      80  23.374726\n",
       "4  m_005    1.85      80  23.374726\n",
       "5  m_006    1.86      80  23.124061\n",
       "6  m_007    1.84      81  23.924858\n",
       "7  m_008    1.86      80  23.124061\n",
       "8  m_009    1.85      79  23.082542\n",
       "9  m_010    1.84      82  24.220227"
      ]
     },
     "execution_count": 5,
     "metadata": {},
     "output_type": "execute_result"
    }
   ],
   "source": [
    "data.head(10)\n",
    "#print(len(data))"
   ]
  },
  {
   "cell_type": "code",
   "execution_count": 90,
   "metadata": {},
   "outputs": [],
   "source": [
    "data_male=data[:408]\n",
    "data_female=data[408:]"
   ]
  },
  {
   "cell_type": "code",
   "execution_count": 91,
   "metadata": {},
   "outputs": [
    {
     "data": {
      "text/html": [
       "<div>\n",
       "<style scoped>\n",
       "    .dataframe tbody tr th:only-of-type {\n",
       "        vertical-align: middle;\n",
       "    }\n",
       "\n",
       "    .dataframe tbody tr th {\n",
       "        vertical-align: top;\n",
       "    }\n",
       "\n",
       "    .dataframe thead th {\n",
       "        text-align: right;\n",
       "    }\n",
       "</style>\n",
       "<table border=\"1\" class=\"dataframe\">\n",
       "  <thead>\n",
       "    <tr style=\"text-align: right;\">\n",
       "      <th></th>\n",
       "      <th>image</th>\n",
       "      <th>height</th>\n",
       "      <th>weight</th>\n",
       "      <th>BMI</th>\n",
       "      <th>class</th>\n",
       "    </tr>\n",
       "  </thead>\n",
       "  <tbody>\n",
       "    <tr>\n",
       "      <th>0</th>\n",
       "      <td>m_001</td>\n",
       "      <td>1.85</td>\n",
       "      <td>80</td>\n",
       "      <td>23.374726</td>\n",
       "      <td>Normal</td>\n",
       "    </tr>\n",
       "    <tr>\n",
       "      <th>1</th>\n",
       "      <td>m_002</td>\n",
       "      <td>1.85</td>\n",
       "      <td>81</td>\n",
       "      <td>23.666910</td>\n",
       "      <td>Normal</td>\n",
       "    </tr>\n",
       "    <tr>\n",
       "      <th>2</th>\n",
       "      <td>m_003</td>\n",
       "      <td>1.84</td>\n",
       "      <td>79</td>\n",
       "      <td>23.334121</td>\n",
       "      <td>Normal</td>\n",
       "    </tr>\n",
       "    <tr>\n",
       "      <th>3</th>\n",
       "      <td>m_004</td>\n",
       "      <td>1.85</td>\n",
       "      <td>80</td>\n",
       "      <td>23.374726</td>\n",
       "      <td>Normal</td>\n",
       "    </tr>\n",
       "    <tr>\n",
       "      <th>4</th>\n",
       "      <td>m_005</td>\n",
       "      <td>1.85</td>\n",
       "      <td>80</td>\n",
       "      <td>23.374726</td>\n",
       "      <td>Normal</td>\n",
       "    </tr>\n",
       "    <tr>\n",
       "      <th>5</th>\n",
       "      <td>m_006</td>\n",
       "      <td>1.86</td>\n",
       "      <td>80</td>\n",
       "      <td>23.124061</td>\n",
       "      <td>Normal</td>\n",
       "    </tr>\n",
       "    <tr>\n",
       "      <th>6</th>\n",
       "      <td>m_007</td>\n",
       "      <td>1.84</td>\n",
       "      <td>81</td>\n",
       "      <td>23.924858</td>\n",
       "      <td>Normal</td>\n",
       "    </tr>\n",
       "    <tr>\n",
       "      <th>7</th>\n",
       "      <td>m_008</td>\n",
       "      <td>1.86</td>\n",
       "      <td>80</td>\n",
       "      <td>23.124061</td>\n",
       "      <td>Normal</td>\n",
       "    </tr>\n",
       "    <tr>\n",
       "      <th>8</th>\n",
       "      <td>m_009</td>\n",
       "      <td>1.85</td>\n",
       "      <td>79</td>\n",
       "      <td>23.082542</td>\n",
       "      <td>Normal</td>\n",
       "    </tr>\n",
       "    <tr>\n",
       "      <th>9</th>\n",
       "      <td>m_010</td>\n",
       "      <td>1.84</td>\n",
       "      <td>82</td>\n",
       "      <td>24.220227</td>\n",
       "      <td>Normal</td>\n",
       "    </tr>\n",
       "  </tbody>\n",
       "</table>\n",
       "</div>"
      ],
      "text/plain": [
       "   image  height  weight        BMI   class\n",
       "0  m_001    1.85      80  23.374726  Normal\n",
       "1  m_002    1.85      81  23.666910  Normal\n",
       "2  m_003    1.84      79  23.334121  Normal\n",
       "3  m_004    1.85      80  23.374726  Normal\n",
       "4  m_005    1.85      80  23.374726  Normal\n",
       "5  m_006    1.86      80  23.124061  Normal\n",
       "6  m_007    1.84      81  23.924858  Normal\n",
       "7  m_008    1.86      80  23.124061  Normal\n",
       "8  m_009    1.85      79  23.082542  Normal\n",
       "9  m_010    1.84      82  24.220227  Normal"
      ]
     },
     "execution_count": 91,
     "metadata": {},
     "output_type": "execute_result"
    }
   ],
   "source": [
    "data_male.head(10)\n",
    "#print(data_male)"
   ]
  },
  {
   "cell_type": "code",
   "execution_count": 92,
   "metadata": {},
   "outputs": [
    {
     "data": {
      "text/html": [
       "<div>\n",
       "<style scoped>\n",
       "    .dataframe tbody tr th:only-of-type {\n",
       "        vertical-align: middle;\n",
       "    }\n",
       "\n",
       "    .dataframe tbody tr th {\n",
       "        vertical-align: top;\n",
       "    }\n",
       "\n",
       "    .dataframe thead th {\n",
       "        text-align: right;\n",
       "    }\n",
       "</style>\n",
       "<table border=\"1\" class=\"dataframe\">\n",
       "  <thead>\n",
       "    <tr style=\"text-align: right;\">\n",
       "      <th></th>\n",
       "      <th>image</th>\n",
       "      <th>height</th>\n",
       "      <th>weight</th>\n",
       "      <th>BMI</th>\n",
       "      <th>class</th>\n",
       "    </tr>\n",
       "  </thead>\n",
       "  <tbody>\n",
       "    <tr>\n",
       "      <th>408</th>\n",
       "      <td>f_001</td>\n",
       "      <td>1.54</td>\n",
       "      <td>55</td>\n",
       "      <td>23.191095</td>\n",
       "      <td>Normal</td>\n",
       "    </tr>\n",
       "    <tr>\n",
       "      <th>409</th>\n",
       "      <td>f_002</td>\n",
       "      <td>1.55</td>\n",
       "      <td>55</td>\n",
       "      <td>22.892820</td>\n",
       "      <td>Normal</td>\n",
       "    </tr>\n",
       "    <tr>\n",
       "      <th>410</th>\n",
       "      <td>f_003</td>\n",
       "      <td>1.56</td>\n",
       "      <td>55</td>\n",
       "      <td>22.600263</td>\n",
       "      <td>Normal</td>\n",
       "    </tr>\n",
       "    <tr>\n",
       "      <th>411</th>\n",
       "      <td>f_004</td>\n",
       "      <td>1.55</td>\n",
       "      <td>55</td>\n",
       "      <td>22.892820</td>\n",
       "      <td>Normal</td>\n",
       "    </tr>\n",
       "    <tr>\n",
       "      <th>412</th>\n",
       "      <td>f_005</td>\n",
       "      <td>1.54</td>\n",
       "      <td>56</td>\n",
       "      <td>23.612751</td>\n",
       "      <td>Normal</td>\n",
       "    </tr>\n",
       "    <tr>\n",
       "      <th>413</th>\n",
       "      <td>f_006</td>\n",
       "      <td>1.55</td>\n",
       "      <td>56</td>\n",
       "      <td>23.309053</td>\n",
       "      <td>Normal</td>\n",
       "    </tr>\n",
       "    <tr>\n",
       "      <th>414</th>\n",
       "      <td>f_007</td>\n",
       "      <td>1.56</td>\n",
       "      <td>56</td>\n",
       "      <td>23.011177</td>\n",
       "      <td>Normal</td>\n",
       "    </tr>\n",
       "    <tr>\n",
       "      <th>415</th>\n",
       "      <td>f_008</td>\n",
       "      <td>1.54</td>\n",
       "      <td>54</td>\n",
       "      <td>22.769438</td>\n",
       "      <td>Normal</td>\n",
       "    </tr>\n",
       "    <tr>\n",
       "      <th>416</th>\n",
       "      <td>f_009</td>\n",
       "      <td>1.55</td>\n",
       "      <td>54</td>\n",
       "      <td>22.476587</td>\n",
       "      <td>Normal</td>\n",
       "    </tr>\n",
       "    <tr>\n",
       "      <th>417</th>\n",
       "      <td>f_010</td>\n",
       "      <td>1.56</td>\n",
       "      <td>54</td>\n",
       "      <td>22.189349</td>\n",
       "      <td>Normal</td>\n",
       "    </tr>\n",
       "  </tbody>\n",
       "</table>\n",
       "</div>"
      ],
      "text/plain": [
       "     image  height  weight        BMI   class\n",
       "408  f_001    1.54      55  23.191095  Normal\n",
       "409  f_002    1.55      55  22.892820  Normal\n",
       "410  f_003    1.56      55  22.600263  Normal\n",
       "411  f_004    1.55      55  22.892820  Normal\n",
       "412  f_005    1.54      56  23.612751  Normal\n",
       "413  f_006    1.55      56  23.309053  Normal\n",
       "414  f_007    1.56      56  23.011177  Normal\n",
       "415  f_008    1.54      54  22.769438  Normal\n",
       "416  f_009    1.55      54  22.476587  Normal\n",
       "417  f_010    1.56      54  22.189349  Normal"
      ]
     },
     "execution_count": 92,
     "metadata": {},
     "output_type": "execute_result"
    }
   ],
   "source": [
    "data_female.head(10)\n",
    "#print(data_female)"
   ]
  },
  {
   "cell_type": "markdown",
   "metadata": {},
   "source": [
    "# EDA"
   ]
  },
  {
   "cell_type": "markdown",
   "metadata": {},
   "source": [
    "Female Data Distribution"
   ]
  },
  {
   "cell_type": "code",
   "execution_count": 9,
   "metadata": {},
   "outputs": [
    {
     "data": {
      "text/plain": [
       "Text(0.5, 0, 'Height(m)')"
      ]
     },
     "execution_count": 9,
     "metadata": {},
     "output_type": "execute_result"
    },
    {
     "data": {
      "image/png": "[encoded data removed]",
      "text/plain": [
       "<Figure size 1500x1000 with 1 Axes>"
      ]
     },
     "metadata": {},
     "output_type": "display_data"
    }
   ],
   "source": [
    "sns.set()\n",
    "female_plot=data_female.plot(style='o', x='height', y='weight', figsize=(15,10), grid=True, markersize=5, legend=False,fontsize=20)\n",
    "female_plot.set_ylabel('Weight(Kg)',fontsize=20)\n",
    "female_plot.set_xlabel('Height(m)',fontsize=20)"
   ]
  },
  {
   "cell_type": "code",
   "execution_count": 10,
   "metadata": {},
   "outputs": [
    {
     "name": "stdout",
     "output_type": "stream",
     "text": [
      "Average Height = 1.6m, Average Weight = 53.21kg\n"
     ]
    }
   ],
   "source": [
    "print('Average Height = ' + str(round(data_female['height'].mean(), 2)) + 'm, Average Weight = ' + str(round(data_female['weight'].mean(), 2)) + 'kg')"
   ]
  },
  {
   "attachments": {},
   "cell_type": "markdown",
   "metadata": {},
   "source": [
    "Male Data Distribution"
   ]
  },
  {
   "cell_type": "code",
   "execution_count": 11,
   "metadata": {},
   "outputs": [
    {
     "data": {
      "text/plain": [
       "Text(0.5, 0, 'Height(m)')"
      ]
     },
     "execution_count": 11,
     "metadata": {},
     "output_type": "execute_result"
    },
    {
     "data": {
      "image/png": "[encoded data removed]",
      "text/plain": [
       "<Figure size 1500x1000 with 1 Axes>"
      ]
     },
     "metadata": {},
     "output_type": "display_data"
    }
   ],
   "source": [
    "sns.set()\n",
    "male_plot=data_male.plot(style='o', x='height', y='weight', figsize=(15,10), grid=True, markersize=5, legend=False)\n",
    "male_plot.set_ylabel('Weight(Kg)')\n",
    "male_plot.set_xlabel('Height(m)')"
   ]
  },
  {
   "cell_type": "code",
   "execution_count": 12,
   "metadata": {},
   "outputs": [
    {
     "name": "stdout",
     "output_type": "stream",
     "text": [
      "Average Height = 1.72m, Average Weight = 68.34kg\n"
     ]
    }
   ],
   "source": [
    "print('Average Height = ' + str(round(data_male['height'].mean(), 2)) + 'm, Average Weight = ' + str(round(data_male['weight'].mean(), 2)) + 'kg')"
   ]
  },
  {
   "cell_type": "code",
   "execution_count": 13,
   "metadata": {},
   "outputs": [],
   "source": [
    "def bmi_classification(bmi):\n",
    "    if bmi < 18.5:\n",
    "        return 'Underweight'\n",
    "    elif (bmi >= 18.5) and (bmi < 25):\n",
    "        return 'Normal'\n",
    "    elif (bmi >= 25) and (bmi < 30):\n",
    "        return 'Overweight'\n",
    "    elif (bmi >= 30) and (bmi < 35):\n",
    "        return 'Moderately obese'\n",
    "    elif (bmi >= 35) and (bmi < 40):\n",
    "        return 'Severely obese'\n",
    "    else:\n",
    "        return 'Very severely obese'"
   ]
  },
  {
   "cell_type": "code",
   "execution_count": 14,
   "metadata": {},
   "outputs": [
    {
     "data": {
      "text/plain": [
       "Normal            565\n",
       "Underweight       143\n",
       "Overweight        128\n",
       "Severely obese     10\n",
       "Name: class, dtype: int64"
      ]
     },
     "execution_count": 14,
     "metadata": {},
     "output_type": "execute_result"
    }
   ],
   "source": [
    "data['class'] = data['BMI'].apply(bmi_classification)\n",
    "data['class'].value_counts()"
   ]
  },
  {
   "cell_type": "markdown",
   "metadata": {},
   "source": [
    "# Feature Extraction"
   ]
  },
  {
   "cell_type": "code",
   "execution_count": 94,
   "metadata": {},
   "outputs": [
    {
     "name": "stdout",
     "output_type": "stream",
     "text": [
      "1/1 [==============================] - 0s 32ms/step\n",
      "1/1 [==============================] - 0s 29ms/step\n",
      "1/1 [==============================] - 0s 38ms/step\n",
      "1/1 [==============================] - 0s 29ms/step\n",
      "1/1 [==============================] - 0s 27ms/step\n",
      "1/1 [==============================] - 0s 27ms/step\n",
      "1/1 [==============================] - 0s 31ms/step\n",
      "1/1 [==============================] - 0s 24ms/step\n",
      "1/1 [==============================] - 0s 29ms/step\n",
      "1/1 [==============================] - 0s 27ms/step\n",
      "[]\n"
     ]
    }
   ],
   "source": [
    "from keras_facenet import FaceNet\n",
    "import cv2\n",
    "\n",
    "# Load an image\n",
    "image = cv2.imread(\"E:/Face_2_BMI/Data/all_celeb/images/f_001.jpg\")\n",
    "image = cv2.imread(\"E:/Face_2_BMI/Data/Test/flower.jpg\")\n",
    "# Create a FaceNet object\n",
    "embedder = FaceNet()\n",
    "\n",
    "# Extract the face embeddings\n",
    "detections = embedder.extract(image, threshold=0.95)\n",
    "print(detections)\n",
    "\n",
    "# Print the embeddings\n",
    "for i, detection in enumerate(detections):\n",
    "    print(f'Embedding {i}: {detection[\"embedding\"]}')\n"
   ]
  },
  {
   "cell_type": "code",
   "execution_count": null,
   "metadata": {},
   "outputs": [],
   "source": [
    "from keras_facenet import FaceNet\n",
    "import cv2\n",
    "# Load the Facenet model\n",
    "#model = FaceNet()\n",
    "\n",
    "# function to read and preprocess images\n",
    "def preprocess_image(image_path):\n",
    "    try:\n",
    "        img = cv2.imread(image_path)\n",
    "        img = cv2.cvtColor(img, cv2.COLOR_BGR2RGB)\n",
    "        img = cv2.resize(img, (160, 160))\n",
    "        img = (img / 255.0 - 0.5) * 2.0\n",
    "        return img\n",
    "    except Exception as e:\n",
    "        print(e)\n",
    "\n",
    "\n",
    "def encode_image(image_path):\n",
    "    embedder = FaceNet()\n",
    "    try:\n",
    "        image = preprocess_image(image_path)\n",
    "    except FileNotFoundError:\n",
    "        print(\"File Not Found at: \" + image_path)\n",
    "        return np.zeros(128).tolist()\n",
    "    if len(embedder.extract(image_path, threshold=0.95))==0:\n",
    "        print(\"No Face Found at: \" + image_path)\n",
    "        return np.zeros(128).tolist()\n",
    "    else:\n",
    "        face_encoding=embedder.embeddings([image])\n",
    "        return face_encoding[0].tolist()\n",
    "\n",
    "import os\n",
    "face_data=[]\n",
    "for image_name in data.image:\n",
    "    if os.path.exists(\"E:/Face_2_BMI/Data/all_celeb/images/\" + image_name + \".jpg\"):\n",
    "        face_encoding=encode_image(\"E:/Face_2_BMI/Data/all_celeb/images/\" + image_name + \".jpg\")\n",
    "        face_data.append(face_encoding)\n",
    "    elif os.path.exists(\"E:/Face_2_BMI/Data/all_celeb/images/\" + image_name + \".jpeg\"):\n",
    "        face_encoding=encode_image(\"E:/Face_2_BMI/Data/all_celeb/images/\" + image_name + \".jpeg\")\n",
    "        face_data.append(face_encoding)\n",
    "    elif os.path.exists(\"E:/Face_2_BMI/Data/all_celeb/images/\" + image_name + \".png\"):\n",
    "        face_encoding=encode_image(\"E:/Face_2_BMI/Data/all_celeb/images/\" + image_name + \".png\")\n",
    "        face_data.append(face_encoding)\n",
    "\n",
    "print(face_data)\n",
    "print(len(face_data))"
   ]
  },
  {
   "cell_type": "code",
   "execution_count": null,
   "metadata": {},
   "outputs": [],
   "source": [
    "#print(len(face_data),len(face_data[0]))\n",
    "with open('readme.txt', 'w') as f:\n",
    "    for i in range(len(face_data)):\n",
    "        y = [str(abs(x)) for x in face_data[i]]\n",
    "        f.write((\"  \".join(y)))\n",
    "        f.write('\\n')"
   ]
  },
  {
   "cell_type": "code",
   "execution_count": 18,
   "metadata": {},
   "outputs": [],
   "source": [
    "import face_recognition\n",
    "def encode_image(image_path):\n",
    "    try:\n",
    "        image=face_recognition.load_image_file(image_path)\n",
    "    except FileNotFoundError:\n",
    "        print(\"File Not Found at: \" + image_path)\n",
    "        return np.zeros(128).tolist()\n",
    "    face_encoding=face_recognition.face_encodings(image)\n",
    "    if not face_encoding:\n",
    "        print(\"No Face Found at \" + image_path)\n",
    "        return np.zeros(128).tolist()\n",
    "    return face_encoding[0].tolist()\n",
    "\n",
    "face_data=[]\n",
    "#print(data.image)\n",
    "for image_name in data.image:\n",
    "    if os.path.exists(\"E:/Face_2_BMI_Estimation_Project/Data/all_celeb/images/\" + image_name + \".jpg\"):\n",
    "        face_encoding=encode_image(\"E:/Face_2_BMI_Estimation_Project/Data/all_celeb/images/\" + image_name + \".jpg\")\n",
    "        face_data.append(face_encoding)\n",
    "    elif os.path.exists(\"E:/Face_2_BMI_Estimation_Project/Data/all_celeb/images/\" + image_name + \".jpeg\"):\n",
    "        face_encoding=encode_image(\"E:/Face_2_BMI_Estimation_Project/Data/all_celeb/images/\" + image_name + \".jpeg\")\n",
    "        face_data.append(face_encoding)\n",
    "    elif os.path.exists(\"E:/Face_2_BMI_Estimation_Project/Data/all_celeb/images/\" + image_name + \".png\"):\n",
    "        face_encoding=encode_image(\"E:/Face_2_BMI_Estimation_Project/Data/all_celeb/images/\" + image_name + \".png\")\n",
    "        face_data.append(face_encoding)"
   ]
  },
  {
   "cell_type": "code",
   "execution_count": 19,
   "metadata": {},
   "outputs": [],
   "source": [
    "import face_recognition\n",
    "def encode_image(image_path):\n",
    "    try:\n",
    "        image=face_recognition.load_image_file(image_path)\n",
    "    except FileNotFoundError:\n",
    "        print(\"File Not Found at: \" + image_path)\n",
    "        return np.zeros(128).tolist()\n",
    "    face_encoding=face_recognition.face_encodings(image)\n",
    "    if not face_encoding:\n",
    "        print(\"No Face Found at \" + image_path)\n",
    "        return np.zeros(128).tolist()\n",
    "    return face_encoding[0].tolist()"
   ]
  },
  {
   "cell_type": "code",
   "execution_count": 104,
   "metadata": {},
   "outputs": [],
   "source": [
    "#print(len(face_data),len(face_data[0]))\n",
    "with open('readme.txt', 'w') as f:\n",
    "    for i in range(len(face_data)):\n",
    "        y = [str(abs(x)) for x in face_data[i]]\n",
    "        f.write((\"  \".join(y)))\n",
    "        f.write('\\n')"
   ]
  },
  {
   "cell_type": "code",
   "execution_count": 21,
   "metadata": {},
   "outputs": [],
   "source": [
    "X=np.array(face_data)\n",
    "y_height=data.height.values\n",
    "y_weight=data.weight.values\n",
    "y_BMI=data.BMI.values\n",
    "#plotX=pd.DataFrame(X)"
   ]
  },
  {
   "cell_type": "markdown",
   "metadata": {},
   "source": [
    "# Model Creation"
   ]
  },
  {
   "cell_type": "markdown",
   "metadata": {},
   "source": [
    "Spliting Data"
   ]
  },
  {
   "cell_type": "code",
   "execution_count": 22,
   "metadata": {},
   "outputs": [],
   "source": [
    "from sklearn.model_selection import train_test_split\n",
    "X_train, X_test, y_height_train, y_height_test, y_weight_train, y_weight_test, y_BMI_train, y_BMI_test = train_test_split(X, y_height, y_weight, y_BMI, random_state=1,test_size=0.2)"
   ]
  },
  {
   "cell_type": "code",
   "execution_count": 102,
   "metadata": {},
   "outputs": [],
   "source": [
    "from sklearn.metrics import mean_squared_error,mean_absolute_error, r2_score\n",
    "from sklearn.metrics import r2_score\n",
    "def measure_performance(model, X_test, y_test, predictor_log=True):\n",
    "    # Make predictions using the testing set\n",
    "    y_pred = model.predict(X_test)\n",
    "    y_true = y_test\n",
    "\n",
    "    if predictor_log:\n",
    "        y_true = np.log(y_test)\n",
    "    \n",
    "    \n",
    "    errors = abs(y_pred - y_true)\n",
    "    mape = 100 * np.mean(errors / y_true)\n",
    "    accuracy = 100 - mape\n",
    "    print('Model Performance')\n",
    "    #print('Average Error: {:0.4f} degrees.'.format(np.mean(errors)))\n",
    "    print('Accuracy = {:0.2f}%.'.format(accuracy))\n",
    "    print('Variance score: %.2f' % r2_score(y_true, y_pred))"
   ]
  },
  {
   "cell_type": "code",
   "execution_count": 26,
   "metadata": {},
   "outputs": [],
   "source": [
    "from sklearn.kernel_ridge import KernelRidge\n",
    "from sklearn import  linear_model\n",
    "from sklearn.svm import SVR\n",
    "from sklearn.linear_model import Ridge\n",
    "from sklearn.ensemble import RandomForestRegressor\n",
    "import joblib"
   ]
  },
  {
   "attachments": {},
   "cell_type": "markdown",
   "metadata": {},
   "source": [
    "## Simple Linear Regression"
   ]
  },
  {
   "cell_type": "code",
   "execution_count": 37,
   "metadata": {},
   "outputs": [
    {
     "name": "stdout",
     "output_type": "stream",
     "text": [
      "Model Performance\n",
      "Accuracy = 89.20%.\n",
      "Variance score: 0.63\n"
     ]
    }
   ],
   "source": [
    "#Height Estimation\n",
    "model_height = linear_model.LinearRegression()\n",
    "model_height = model_height.fit(X_train, np.log(y_height_train))\n",
    "measure_performance(model_height, X_test, y_height_test)"
   ]
  },
  {
   "cell_type": "code",
   "execution_count": 38,
   "metadata": {},
   "outputs": [
    {
     "name": "stdout",
     "output_type": "stream",
     "text": [
      "Model Performance\n",
      "Accuracy = 12.36%.\n",
      "Variance score: -209.86\n"
     ]
    }
   ],
   "source": [
    "#Weight Estimation\n",
    "model_weight = linear_model.LinearRegression()\n",
    "model_weight = model_weight.fit(X_train,np.log(y_weight_train))\n",
    "measure_performance(model_height,X_test,y_weight_test)"
   ]
  },
  {
   "cell_type": "code",
   "execution_count": 46,
   "metadata": {},
   "outputs": [
    {
     "name": "stdout",
     "output_type": "stream",
     "text": [
      "Model Performance\n",
      "Accuracy = 16.33%.\n",
      "Variance score: -278.98\n"
     ]
    },
    {
     "data": {
      "text/plain": [
       "['E:/Face_2_BMI/models/linear_bmi_predictor.model']"
      ]
     },
     "execution_count": 46,
     "metadata": {},
     "output_type": "execute_result"
    }
   ],
   "source": [
    "#BMI Estimation\n",
    "model_BMI = linear_model.LinearRegression()\n",
    "model_BMI = model_BMI.fit(X_train,np.log(y_BMI_train))\n",
    "measure_performance(model_height,X_test,y_BMI_test)\n",
    "\n",
    "#saving model\n",
    "bmi_model = 'E:/Face_2_BMI/models/linear_bmi_predictor.model'\n",
    "joblib.dump(model_BMI, bmi_model)"
   ]
  },
  {
   "attachments": {},
   "cell_type": "markdown",
   "metadata": {},
   "source": [
    "## Ridge Linear Regression"
   ]
  },
  {
   "cell_type": "code",
   "execution_count": 74,
   "metadata": {},
   "outputs": [
    {
     "name": "stdout",
     "output_type": "stream",
     "text": [
      "Model Performance\n",
      "Accuracy = 79.79%.\n",
      "Variance score: 0.63\n"
     ]
    }
   ],
   "source": [
    "#Estimating Height\n",
    "\n",
    "from sklearn.pipeline import make_pipeline\n",
    "from sklearn.preprocessing import StandardScaler\n",
    "model_height = make_pipeline(StandardScaler(with_mean=False), Ridge(fit_intercept=True, alpha=0.0015, random_state=4))\n",
    "model_height = model_height.fit(X_train, np.log(y_height_train))\n",
    "measure_performance(model_height, X_test, y_height_test)"
   ]
  },
  {
   "cell_type": "code",
   "execution_count": 75,
   "metadata": {},
   "outputs": [
    {
     "name": "stdout",
     "output_type": "stream",
     "text": [
      "Model Performance\n",
      "Accuracy = 88.77%.\n",
      "Variance score: 0.69\n"
     ]
    }
   ],
   "source": [
    "#Estimating Weight\n",
    "model_weight = make_pipeline(StandardScaler(with_mean=False), Ridge(fit_intercept=True, alpha=0.0015, random_state=4))\n",
    "model_weight = model_weight.fit(X_train,np.log(y_weight_train))\n",
    "measure_performance(model_weight,X_test,y_weight_test)"
   ]
  },
  {
   "cell_type": "code",
   "execution_count": 76,
   "metadata": {},
   "outputs": [
    {
     "name": "stdout",
     "output_type": "stream",
     "text": [
      "Model Performance\n",
      "Accuracy = 88.84%.\n",
      "Variance score: 0.56\n"
     ]
    },
    {
     "data": {
      "text/plain": [
       "['E:/Face_2_BMI_Estimation_Project/models/ridge_bmi_predictor.model']"
      ]
     },
     "execution_count": 76,
     "metadata": {},
     "output_type": "execute_result"
    }
   ],
   "source": [
    "#Estimating BMI\n",
    "model_BMI = make_pipeline(StandardScaler(with_mean=True), Ridge(fit_intercept=True, alpha=0.0015, random_state=4))\n",
    "model_BMI = model_BMI.fit(X_train, np.log(y_BMI_train))\n",
    "measure_performance(model_BMI, X_test, y_BMI_test)\n",
    "\n",
    "#saving model\n",
    "bmi_model = 'E:/Face_2_BMI_Estimation_Project/models/ridge_bmi_predictor.model'\n",
    "joblib.dump(model_BMI, bmi_model)"
   ]
  },
  {
   "attachments": {},
   "cell_type": "markdown",
   "metadata": {},
   "source": [
    "## Random Forest Regressor"
   ]
  },
  {
   "cell_type": "code",
   "execution_count": 56,
   "metadata": {},
   "outputs": [
    {
     "name": "stdout",
     "output_type": "stream",
     "text": [
      "Model Performance\n",
      "Accuracy = 79.04%.\n",
      "Variance score: 0.45\n"
     ]
    }
   ],
   "source": [
    "model_height = RandomForestRegressor(max_depth=2, random_state=0, n_estimators=100)\n",
    "model_height = model_height.fit(X_train,np.log(y_height_train))\n",
    "measure_performance(model_height, X_test, y_height_test)"
   ]
  },
  {
   "cell_type": "code",
   "execution_count": 57,
   "metadata": {},
   "outputs": [],
   "source": [
    "#With Hyperparamter Tuning\n",
    "from sklearn.model_selection import RandomizedSearchCV\n",
    "# Number of trees in random forest\n",
    "n_estimators = [int(x) for x in np.linspace(start = 10, stop = 1000, num = 10)]\n",
    "# Number of features to consider at every split\n",
    "max_features = ['auto', 'sqrt']\n",
    "# Maximum number of levels in tree\n",
    "max_depth = [int(x) for x in np.linspace(10, 100, num = 11)]\n",
    "max_depth.append(None)\n",
    "# Minimum number of samples required to split a node\n",
    "min_samples_split = [2, 5, 10]\n",
    "# Minimum number of samples required at each leaf node\n",
    "min_samples_leaf = [1, 2, 4]\n",
    "# Method of selecting samples for training each tree\n",
    "bootstrap = [True, False]\n",
    "# Create the random grid\n",
    "random_grid = {'n_estimators': n_estimators,\n",
    "               'max_features': max_features,\n",
    "               'max_depth': max_depth,\n",
    "               'min_samples_split': min_samples_split,\n",
    "               'min_samples_leaf': min_samples_leaf,\n",
    "               'bootstrap': bootstrap}\n",
    "rf = RandomForestRegressor()"
   ]
  },
  {
   "cell_type": "code",
   "execution_count": 84,
   "metadata": {},
   "outputs": [
    {
     "name": "stdout",
     "output_type": "stream",
     "text": [
      "Fitting 3 folds for each of 100 candidates, totalling 300 fits\n",
      "Model Performance\n",
      "Accuracy = 90.13%.\n",
      "Variance score: 0.73\n"
     ]
    },
    {
     "data": {
      "text/plain": [
       "['E:/Face_2_BMI/models/rf_height_predictor.model']"
      ]
     },
     "execution_count": 84,
     "metadata": {},
     "output_type": "execute_result"
    }
   ],
   "source": [
    "rf_height_model = RandomizedSearchCV(estimator=rf, param_distributions=random_grid, n_iter=100, cv=3, verbose=2, random_state=42, n_jobs=-1)\n",
    "# Fit the random search model\n",
    "rf_height_model.fit(X_train,np.log(y_height_train))\n",
    "measure_performance(rf_height_model, X_test, y_height_test)\n",
    "joblib.dump(rf_height_model, 'E:/Face_2_BMI/models/rf_height_predictor.model')"
   ]
  },
  {
   "cell_type": "code",
   "execution_count": 68,
   "metadata": {},
   "outputs": [
    {
     "name": "stdout",
     "output_type": "stream",
     "text": [
      "Model Performance\n",
      "Accuracy = 90.92%.\n",
      "Variance score: 0.52\n"
     ]
    }
   ],
   "source": [
    "model_weight = RandomForestRegressor(max_depth=2, random_state=0, n_estimators=100)\n",
    "model_weight = model_weight.fit(X_train, np.log(y_weight_train))\n",
    "measure_performance(model_weight, X_test, y_weight_test)"
   ]
  },
  {
   "cell_type": "code",
   "execution_count": 87,
   "metadata": {},
   "outputs": [
    {
     "name": "stdout",
     "output_type": "stream",
     "text": [
      "Fitting 3 folds for each of 100 candidates, totalling 300 fits\n",
      "Model Performance\n",
      "Accuracy = 91.94%.\n",
      "Variance score: 0.80\n"
     ]
    },
    {
     "data": {
      "text/plain": [
       "['E:/Face_2_BMI/models/rf_weight_predictor.model']"
      ]
     },
     "execution_count": 87,
     "metadata": {},
     "output_type": "execute_result"
    }
   ],
   "source": [
    "rf_weight_model = RandomizedSearchCV(estimator=rf, param_distributions=random_grid, n_iter=100, cv=3, verbose=2, random_state=42, n_jobs=-1)\n",
    "# Fit the random search model\n",
    "rf_weight_model.fit(X_train,np.log(y_weight_train))\n",
    "measure_performance(rf_weight_model,X_test,y_weight_test)\n",
    "\n",
    "joblib.dump(rf_weight_model, 'E:/Face_2_BMI/models/rf_weight_predictor.model')"
   ]
  },
  {
   "cell_type": "code",
   "execution_count": 69,
   "metadata": {},
   "outputs": [
    {
     "name": "stdout",
     "output_type": "stream",
     "text": [
      "Model Performance\n",
      "Accuracy = 91.02%.\n",
      "Variance score: 0.48\n"
     ]
    }
   ],
   "source": [
    "model_BMI = RandomForestRegressor(max_depth=2, random_state=0, n_estimators=100)\n",
    "model_BMI = model_BMI.fit(X_train, np.log(y_BMI_train))\n",
    "measure_performance(model_BMI, X_test, y_BMI_test)"
   ]
  },
  {
   "cell_type": "code",
   "execution_count": 101,
   "metadata": {},
   "outputs": [
    {
     "name": "stdout",
     "output_type": "stream",
     "text": [
      "Fitting 3 folds for each of 100 candidates, totalling 300 fits\n",
      "Model Performance\n",
      "Accuracy = 91.90%.\n",
      "Variance score: 0.74\n"
     ]
    }
   ],
   "source": [
    "rf_BMI_model = RandomizedSearchCV(estimator=rf, param_distributions=random_grid, n_iter=100, cv=3, verbose=2, random_state=42, n_jobs=-1)\n",
    "# Fit the random search model\n",
    "rf_BMI_model.fit(X_train,np.log(y_BMI_train))\n",
    "measure_performance(rf_BMI_model, X_test, y_BMI_test)\n",
    "\n",
    "bmi_model = 'E:/Face_2_BMI/models/rf_bmi_predictor1.model'"
   ]
  },
  {
   "attachments": {},
   "cell_type": "markdown",
   "metadata": {},
   "source": [
    "## SVR"
   ]
  },
  {
   "cell_type": "code",
   "execution_count": 77,
   "metadata": {},
   "outputs": [
    {
     "name": "stdout",
     "output_type": "stream",
     "text": [
      "Model Performance\n",
      "Accuracy = 79.17%.\n",
      "Variance score: 0.49\n"
     ]
    }
   ],
   "source": [
    "from sklearn.svm import SVR\n",
    "\n",
    "model_height=SVR(kernel='rbf')\n",
    "model_height=model_height.fit(X_train, np.log(y_height_train) )\n",
    "measure_performance(model_height, X_test, y_height_test)"
   ]
  },
  {
   "cell_type": "code",
   "execution_count": 79,
   "metadata": {},
   "outputs": [
    {
     "name": "stdout",
     "output_type": "stream",
     "text": [
      "Model Performance\n",
      "Accuracy = 89.39%.\n",
      "Variance score: 0.79\n"
     ]
    }
   ],
   "source": [
    "model_weight=SVR(kernel='rbf')\n",
    "model_weight=model_weight.fit(X_train, np.log(y_weight_train) )\n",
    "measure_performance(model_weight, X_test, y_weight_test)"
   ]
  },
  {
   "cell_type": "code",
   "execution_count": 103,
   "metadata": {},
   "outputs": [
    {
     "name": "stdout",
     "output_type": "stream",
     "text": [
      "Model Performance\n",
      "Accuracy = 89.21%.\n",
      "Variance score: 0.69\n"
     ]
    },
    {
     "data": {
      "text/plain": [
       "['E:/Face_2_BMI/models/svr_bmi_predictor.model']"
      ]
     },
     "execution_count": 103,
     "metadata": {},
     "output_type": "execute_result"
    }
   ],
   "source": [
    "model_BMI=SVR(kernel='rbf')\n",
    "model_BMI=model_BMI.fit(X_train, np.log(y_BMI_train) )\n",
    "measure_performance(model_BMI, X_test, y_BMI_test)\n",
    "\n",
    "joblib.dump(model_BMI,'E:/Face_2_BMI/models/svr_bmi_predictor.model')"
   ]
  },
  {
   "cell_type": "code",
   "execution_count": 95,
   "metadata": {},
   "outputs": [],
   "source": [
    "#load model from disk\n",
    "import joblib\n",
    "height_model = 'E:/Face_2_BMI/models/rf_height_preditor.model'\n",
    "weight_model = 'E:/Face_2_BMI/models/rf_weight_predictor.model'\n",
    "bmi_model = 'E:/Face_2_BMI/models/rf_bmi_predictor.model'\n",
    "height_model = joblib.load(height_model)\n",
    "weight_model = joblib.load(weight_model)\n",
    "bmi_model = joblib.load(bmi_model)"
   ]
  },
  {
   "cell_type": "code",
   "execution_count": 96,
   "metadata": {},
   "outputs": [],
   "source": [
    "def predict_height_width_BMI(test_image,height_model,weight_model,bmi_model):\n",
    "    test_array = np.expand_dims(np.array(encode_image(test_image)),axis=0)\n",
    "    height = np.ndarray.item(np.exp(height_model.predict(test_array)))\n",
    "    weight = np.ndarray.item(np.exp(weight_model.predict(test_array)))\n",
    "    bmi = np.ndarray.item(np.exp(bmi_model.predict(test_array)))\n",
    "    return {'height':height,'weight':weight,'bmi':bmi}\n",
    "    "
   ]
  },
  {
   "cell_type": "code",
   "execution_count": null,
   "metadata": {},
   "outputs": [
    {
     "data": {
      "text/plain": [
       "\"from PIL import Image\\n\\n# Load image\\nimage = Image.open('E:/Face_2_BMI/Data/Test/leela.jpeg')\\n\\n# Resize image\\nresized_image = image.resize((200,200))\\n\\n# Display resized image\\nresized_image.save('E:/Face_2_BMI/Data/Test/leela.jpeg')\""
      ]
     },
     "execution_count": 79,
     "metadata": {},
     "output_type": "execute_result"
    }
   ],
   "source": [
    "'''from PIL import Image\n",
    "\n",
    "# Load image\n",
    "image = Image.open('E:/Face_2_BMI/Data/Test/leela.jpeg')\n",
    "\n",
    "# Resize image\n",
    "resized_image = image.resize((200,200))\n",
    "\n",
    "# Display resized image\n",
    "resized_image.save('E:/Face_2_BMI/Data/Test/leela.jpeg')'''"
   ]
  },
  {
   "cell_type": "code",
   "execution_count": 97,
   "metadata": {},
   "outputs": [
    {
     "data": {
      "image/jpeg": "[encoded data removed]",
      "text/plain": [
       "<IPython.core.display.Image object>"
      ]
     },
     "execution_count": 97,
     "metadata": {},
     "output_type": "execute_result"
    }
   ],
   "source": [
    "from IPython.display import Image\n",
    "test_image= 'E:/Face_2_BMI/Data/Test/jyothirmai_2.jpeg' \n",
    "Image(test_image)"
   ]
  },
  {
   "cell_type": "code",
   "execution_count": 98,
   "metadata": {},
   "outputs": [
    {
     "name": "stdout",
     "output_type": "stream",
     "text": [
      "{'height': 1.6634954084751306, 'weight': 65.70741427494671, 'bmi': 23.912743905505614}\n"
     ]
    }
   ],
   "source": [
    "if(encode_image(test_image)==np.zeros(128).tolist()):\n",
    "    print(\"Face Not Found\")\n",
    "else:\n",
    "    print(predict_height_width_BMI(test_image,height_model,weight_model,bmi_model))"
   ]
  },
  {
   "cell_type": "code",
   "execution_count": 99,
   "metadata": {},
   "outputs": [
    {
     "data": {
      "image/jpeg": "[encoded data removed]",
      "text/plain": [
       "<IPython.core.display.Image object>"
      ]
     },
     "execution_count": 99,
     "metadata": {},
     "output_type": "execute_result"
    }
   ],
   "source": [
    "from IPython.display import Image\n",
    "test_image= 'E:/Face_2_BMI/Data/Test/flower.jpg' \n",
    "Image(test_image)"
   ]
  },
  {
   "cell_type": "code",
   "execution_count": 100,
   "metadata": {},
   "outputs": [
    {
     "name": "stdout",
     "output_type": "stream",
     "text": [
      "No Face Found at E:/Face_2_BMI/Data/Test/flower.jpg\n",
      "Face Not Found\n"
     ]
    }
   ],
   "source": [
    "if(encode_image(test_image)==np.zeros(128).tolist()):\n",
    "    print(\"Face Not Found\")\n",
    "else:\n",
    "    print(predict_height_width_BMI(test_image,height_model,weight_model,bmi_model))"
   ]
  },
  {
   "cell_type": "code",
   "execution_count": null,
   "metadata": {},
   "outputs": [
    {
     "data": {
      "image/jpeg": "[encoded data removed]",
      "text/plain": [
       "<IPython.core.display.Image object>"
      ]
     },
     "execution_count": 12,
     "metadata": {},
     "output_type": "execute_result"
    }
   ],
   "source": [
    "from IPython.display import Image\n",
    "test_image= 'E:/Face_2_BMI/Data/Test/mano_teja.jpeg' \n",
    "Image(test_image)"
   ]
  },
  {
   "cell_type": "code",
   "execution_count": null,
   "metadata": {},
   "outputs": [
    {
     "name": "stdout",
     "output_type": "stream",
     "text": [
      "{'height': 1.7262820282254532, 'weight': 69.17451374165069, 'bmi': 23.13880912235782}\n"
     ]
    }
   ],
   "source": [
    "if(encode_image(test_image)==np.zeros(128).tolist()):\n",
    "    print(\"Face Not Found\")\n",
    "else:\n",
    "    print(predict_height_width_BMI(test_image,height_model,weight_model,bmi_model))"
   ]
  },
  {
   "cell_type": "code",
   "execution_count": null,
   "metadata": {},
   "outputs": [
    {
     "data": {
      "image/jpeg": "[encoded data removed]",
      "text/plain": [
       "<IPython.core.display.Image object>"
      ]
     },
     "execution_count": 14,
     "metadata": {},
     "output_type": "execute_result"
    }
   ],
   "source": [
    "from IPython.display import Image\n",
    "test_image= 'E:/Face_2_BMI/Data/Test/charitha.jpeg' \n",
    "Image(test_image)"
   ]
  },
  {
   "cell_type": "code",
   "execution_count": null,
   "metadata": {},
   "outputs": [
    {
     "name": "stdout",
     "output_type": "stream",
     "text": [
      "{'height': 1.6178840840192577, 'weight': 57.05160587850508, 'bmi': 22.53458717691964}\n"
     ]
    }
   ],
   "source": [
    "if(encode_image(test_image)==np.zeros(128).tolist()):\n",
    "    print(\"Face Not Found\")\n",
    "else:\n",
    "    print(predict_height_width_BMI(test_image,height_model,weight_model,bmi_model))"
   ]
  },
  {
   "cell_type": "code",
   "execution_count": null,
   "metadata": {},
   "outputs": [
    {
     "data": {
      "image/jpeg": "[encoded data removed]",
      "text/plain": [
       "<IPython.core.display.Image object>"
      ]
     },
     "execution_count": 16,
     "metadata": {},
     "output_type": "execute_result"
    }
   ],
   "source": [
    "from IPython.display import Image\n",
    "test_image= 'E:/Face_2_BMI/Data/Test/vamsi.jpeg' \n",
    "Image(test_image)"
   ]
  },
  {
   "cell_type": "code",
   "execution_count": null,
   "metadata": {},
   "outputs": [
    {
     "name": "stdout",
     "output_type": "stream",
     "text": [
      "{'height': 1.7028434008860915, 'weight': 67.85868000226021, 'bmi': 23.67146716438817}\n"
     ]
    }
   ],
   "source": [
    "if(encode_image(test_image)==np.zeros(128).tolist()):\n",
    "    print(\"Face Not Found\")\n",
    "else:\n",
    "    print(predict_height_width_BMI(test_image,height_model,weight_model,bmi_model))"
   ]
  },
  {
   "cell_type": "code",
   "execution_count": null,
   "metadata": {},
   "outputs": [
    {
     "data": {
      "image/jpeg": "[encoded data removed]",
      "text/plain": [
       "<IPython.core.display.Image object>"
      ]
     },
     "execution_count": 18,
     "metadata": {},
     "output_type": "execute_result"
    }
   ],
   "source": [
    "from IPython.display import Image\n",
    "test_image= 'E:/Face_2_BMI/Data/Test/bhavya.jpeg' \n",
    "Image(test_image)"
   ]
  },
  {
   "cell_type": "code",
   "execution_count": null,
   "metadata": {},
   "outputs": [
    {
     "name": "stdout",
     "output_type": "stream",
     "text": [
      "{'height': 1.584543347262988, 'weight': 51.367885302578514, 'bmi': 21.562157973902515}\n"
     ]
    }
   ],
   "source": [
    "if(encode_image(test_image)==np.zeros(128).tolist()):\n",
    "    print(\"Face Not Found\")\n",
    "else:\n",
    "    print(predict_height_width_BMI(test_image,height_model,weight_model,bmi_model))"
   ]
  },
  {
   "cell_type": "code",
   "execution_count": null,
   "metadata": {},
   "outputs": [
    {
     "data": {
      "image/jpeg": "[encoded data removed]",
      "text/plain": [
       "<IPython.core.display.Image object>"
      ]
     },
     "execution_count": 20,
     "metadata": {},
     "output_type": "execute_result"
    }
   ],
   "source": [
    "from IPython.display import Image\n",
    "test_image= 'E:/Face_2_BMI/Data/Test/mythri2.jpeg' \n",
    "Image(test_image)"
   ]
  },
  {
   "cell_type": "code",
   "execution_count": null,
   "metadata": {},
   "outputs": [
    {
     "name": "stdout",
     "output_type": "stream",
     "text": [
      "{'height': 1.6178505101864558, 'weight': 57.95716283946932, 'bmi': 22.30740353936443}\n"
     ]
    }
   ],
   "source": [
    "if(encode_image(test_image)==np.zeros(128).tolist()):\n",
    "    print(\"Face Not Found\")\n",
    "else:\n",
    "    print(predict_height_width_BMI(test_image,height_model,weight_model,bmi_model))"
   ]
  },
  {
   "cell_type": "code",
   "execution_count": null,
   "metadata": {},
   "outputs": [
    {
     "data": {
      "image/jpeg": "[encoded data removed]",
      "text/plain": [
       "<IPython.core.display.Image object>"
      ]
     },
     "execution_count": 22,
     "metadata": {},
     "output_type": "execute_result"
    }
   ],
   "source": [
    "from IPython.display import Image\n",
    "test_image= 'E:/Face_2_BMI/Data/Test/vikky1.jpg' \n",
    "Image(test_image)"
   ]
  },
  {
   "cell_type": "code",
   "execution_count": null,
   "metadata": {},
   "outputs": [
    {
     "name": "stdout",
     "output_type": "stream",
     "text": [
      "{'height': 1.7668435766851032, 'weight': 75.57386082274411, 'bmi': 23.695629146126027}\n"
     ]
    }
   ],
   "source": [
    "if(encode_image(test_image)==np.zeros(128).tolist()):\n",
    "    print(\"Face Not Found\")\n",
    "else:\n",
    "    print(predict_height_width_BMI(test_image,height_model,weight_model,bmi_model))"
   ]
  }
 ],
 "metadata": {
  "kernelspec": {
   "display_name": "Python 3",
   "language": "python",
   "name": "python3"
  },
  "language_info": {
   "codemirror_mode": {
    "name": "ipython",
    "version": 3
   },
   "file_extension": ".py",
   "mimetype": "text/x-python",
   "name": "python",
   "nbconvert_exporter": "python",
   "pygments_lexer": "ipython3",
   "version": "3.10.5"
  },
  "orig_nbformat": 4,
  "vscode": {
   "interpreter": {
    "hash": "de43ddd16f89549b07e1c7414eaa955d441f85ccb0bfd05123f26dd8a1770847"
   }
  }
 },
 "nbformat": 4,
 "nbformat_minor": 2
}
