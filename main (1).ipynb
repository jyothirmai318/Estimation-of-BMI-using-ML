{
 "cells": [
  {
   "cell_type": "markdown",
   "metadata": {},
   "source": [
    "# Libraries and Data"
   ]
  },
  {
   "cell_type": "code",
   "execution_count": 60,
   "metadata": {},
   "outputs": [],
   "source": [
    "import face_recognition\n",
    "from keras_facenet import FaceNet\n",
    "import numpy as np\n",
    "import seaborn as sns\n",
    "import pandas as pd\n",
    "import matplotlib.pyplot as plt"
   ]
  },
  {
   "cell_type": "code",
   "execution_count": 145,
   "metadata": {},
   "outputs": [],
   "source": [
    "data=pd.read_csv('E:/Face_2_BMI/Data/Test/data.csv')"
   ]
  },
  {
   "cell_type": "code",
   "execution_count": 146,
   "metadata": {},
   "outputs": [
    {
     "name": "stdout",
     "output_type": "stream",
     "text": [
      "846\n"
     ]
    }
   ],
   "source": [
    "data.head(10)\n",
    "print(len(data))"
   ]
  },
  {
   "cell_type": "code",
   "execution_count": 65,
   "metadata": {},
   "outputs": [],
   "source": [
    "data_male=data[:405]\n",
    "data_female=data[405:]"
   ]
  },
  {
   "cell_type": "code",
   "execution_count": 66,
   "metadata": {},
   "outputs": [
    {
     "data": {
      "text/html": [
       "<div>\n",
       "<style scoped>\n",
       "    .dataframe tbody tr th:only-of-type {\n",
       "        vertical-align: middle;\n",
       "    }\n",
       "\n",
       "    .dataframe tbody tr th {\n",
       "        vertical-align: top;\n",
       "    }\n",
       "\n",
       "    .dataframe thead th {\n",
       "        text-align: right;\n",
       "    }\n",
       "</style>\n",
       "<table border=\"1\" class=\"dataframe\">\n",
       "  <thead>\n",
       "    <tr style=\"text-align: right;\">\n",
       "      <th></th>\n",
       "      <th>image</th>\n",
       "      <th>height</th>\n",
       "      <th>weight</th>\n",
       "      <th>BMI</th>\n",
       "    </tr>\n",
       "  </thead>\n",
       "  <tbody>\n",
       "    <tr>\n",
       "      <th>0</th>\n",
       "      <td>m_001</td>\n",
       "      <td>1.85</td>\n",
       "      <td>80</td>\n",
       "      <td>23.374726</td>\n",
       "    </tr>\n",
       "    <tr>\n",
       "      <th>1</th>\n",
       "      <td>m_002</td>\n",
       "      <td>1.85</td>\n",
       "      <td>81</td>\n",
       "      <td>23.666910</td>\n",
       "    </tr>\n",
       "    <tr>\n",
       "      <th>2</th>\n",
       "      <td>m_003</td>\n",
       "      <td>1.84</td>\n",
       "      <td>79</td>\n",
       "      <td>23.334121</td>\n",
       "    </tr>\n",
       "    <tr>\n",
       "      <th>3</th>\n",
       "      <td>m_004</td>\n",
       "      <td>1.85</td>\n",
       "      <td>80</td>\n",
       "      <td>23.374726</td>\n",
       "    </tr>\n",
       "    <tr>\n",
       "      <th>4</th>\n",
       "      <td>m_005</td>\n",
       "      <td>1.85</td>\n",
       "      <td>80</td>\n",
       "      <td>23.374726</td>\n",
       "    </tr>\n",
       "    <tr>\n",
       "      <th>5</th>\n",
       "      <td>m_006</td>\n",
       "      <td>1.86</td>\n",
       "      <td>80</td>\n",
       "      <td>23.124061</td>\n",
       "    </tr>\n",
       "    <tr>\n",
       "      <th>6</th>\n",
       "      <td>m_007</td>\n",
       "      <td>1.84</td>\n",
       "      <td>81</td>\n",
       "      <td>23.924858</td>\n",
       "    </tr>\n",
       "    <tr>\n",
       "      <th>7</th>\n",
       "      <td>m_008</td>\n",
       "      <td>1.86</td>\n",
       "      <td>80</td>\n",
       "      <td>23.124061</td>\n",
       "    </tr>\n",
       "    <tr>\n",
       "      <th>8</th>\n",
       "      <td>m_009</td>\n",
       "      <td>1.85</td>\n",
       "      <td>79</td>\n",
       "      <td>23.082542</td>\n",
       "    </tr>\n",
       "    <tr>\n",
       "      <th>9</th>\n",
       "      <td>m_010</td>\n",
       "      <td>1.84</td>\n",
       "      <td>82</td>\n",
       "      <td>24.220227</td>\n",
       "    </tr>\n",
       "  </tbody>\n",
       "</table>\n",
       "</div>"
      ],
      "text/plain": [
       "   image  height  weight        BMI\n",
       "0  m_001    1.85      80  23.374726\n",
       "1  m_002    1.85      81  23.666910\n",
       "2  m_003    1.84      79  23.334121\n",
       "3  m_004    1.85      80  23.374726\n",
       "4  m_005    1.85      80  23.374726\n",
       "5  m_006    1.86      80  23.124061\n",
       "6  m_007    1.84      81  23.924858\n",
       "7  m_008    1.86      80  23.124061\n",
       "8  m_009    1.85      79  23.082542\n",
       "9  m_010    1.84      82  24.220227"
      ]
     },
     "execution_count": 66,
     "metadata": {},
     "output_type": "execute_result"
    }
   ],
   "source": [
    "data_male.head(10)\n",
    "#print(data_male)"
   ]
  },
  {
   "cell_type": "code",
   "execution_count": 67,
   "metadata": {},
   "outputs": [
    {
     "data": {
      "text/html": [
       "<div>\n",
       "<style scoped>\n",
       "    .dataframe tbody tr th:only-of-type {\n",
       "        vertical-align: middle;\n",
       "    }\n",
       "\n",
       "    .dataframe tbody tr th {\n",
       "        vertical-align: top;\n",
       "    }\n",
       "\n",
       "    .dataframe thead th {\n",
       "        text-align: right;\n",
       "    }\n",
       "</style>\n",
       "<table border=\"1\" class=\"dataframe\">\n",
       "  <thead>\n",
       "    <tr style=\"text-align: right;\">\n",
       "      <th></th>\n",
       "      <th>image</th>\n",
       "      <th>height</th>\n",
       "      <th>weight</th>\n",
       "      <th>BMI</th>\n",
       "    </tr>\n",
       "  </thead>\n",
       "  <tbody>\n",
       "    <tr>\n",
       "      <th>405</th>\n",
       "      <td>f_001</td>\n",
       "      <td>1.54</td>\n",
       "      <td>55</td>\n",
       "      <td>23.191095</td>\n",
       "    </tr>\n",
       "    <tr>\n",
       "      <th>406</th>\n",
       "      <td>f_002</td>\n",
       "      <td>1.55</td>\n",
       "      <td>55</td>\n",
       "      <td>22.892820</td>\n",
       "    </tr>\n",
       "    <tr>\n",
       "      <th>407</th>\n",
       "      <td>f_003</td>\n",
       "      <td>1.56</td>\n",
       "      <td>55</td>\n",
       "      <td>22.600263</td>\n",
       "    </tr>\n",
       "    <tr>\n",
       "      <th>408</th>\n",
       "      <td>f_004</td>\n",
       "      <td>1.55</td>\n",
       "      <td>55</td>\n",
       "      <td>22.892820</td>\n",
       "    </tr>\n",
       "    <tr>\n",
       "      <th>409</th>\n",
       "      <td>f_005</td>\n",
       "      <td>1.54</td>\n",
       "      <td>56</td>\n",
       "      <td>23.612751</td>\n",
       "    </tr>\n",
       "    <tr>\n",
       "      <th>410</th>\n",
       "      <td>f_006</td>\n",
       "      <td>1.55</td>\n",
       "      <td>56</td>\n",
       "      <td>23.309053</td>\n",
       "    </tr>\n",
       "    <tr>\n",
       "      <th>411</th>\n",
       "      <td>f_007</td>\n",
       "      <td>1.56</td>\n",
       "      <td>56</td>\n",
       "      <td>23.011177</td>\n",
       "    </tr>\n",
       "    <tr>\n",
       "      <th>412</th>\n",
       "      <td>f_008</td>\n",
       "      <td>1.54</td>\n",
       "      <td>54</td>\n",
       "      <td>22.769438</td>\n",
       "    </tr>\n",
       "    <tr>\n",
       "      <th>413</th>\n",
       "      <td>f_009</td>\n",
       "      <td>1.55</td>\n",
       "      <td>54</td>\n",
       "      <td>22.476587</td>\n",
       "    </tr>\n",
       "    <tr>\n",
       "      <th>414</th>\n",
       "      <td>f_010</td>\n",
       "      <td>1.56</td>\n",
       "      <td>54</td>\n",
       "      <td>22.189349</td>\n",
       "    </tr>\n",
       "  </tbody>\n",
       "</table>\n",
       "</div>"
      ],
      "text/plain": [
       "     image  height  weight        BMI\n",
       "405  f_001    1.54      55  23.191095\n",
       "406  f_002    1.55      55  22.892820\n",
       "407  f_003    1.56      55  22.600263\n",
       "408  f_004    1.55      55  22.892820\n",
       "409  f_005    1.54      56  23.612751\n",
       "410  f_006    1.55      56  23.309053\n",
       "411  f_007    1.56      56  23.011177\n",
       "412  f_008    1.54      54  22.769438\n",
       "413  f_009    1.55      54  22.476587\n",
       "414  f_010    1.56      54  22.189349"
      ]
     },
     "execution_count": 67,
     "metadata": {},
     "output_type": "execute_result"
    }
   ],
   "source": [
    "data_female.head(10)\n",
    "#print(data_female)"
   ]
  },
  {
   "cell_type": "markdown",
   "metadata": {},
   "source": [
    "# EDA"
   ]
  },
  {
   "cell_type": "markdown",
   "metadata": {},
   "source": [
    "Female Data Distribution"
   ]
  },
  {
   "cell_type": "code",
   "execution_count": 9,
   "metadata": {},
   "outputs": [
    {
     "data": {
      "text/plain": [
       "Text(0.5, 0, 'Height(m)')"
      ]
     },
     "execution_count": 9,
     "metadata": {},
     "output_type": "execute_result"
    },
    {
     "data": {
      "image/png": "[encoded data removed]",
      "text/plain": [
       "<Figure size 1500x1000 with 1 Axes>"
      ]
     },
     "metadata": {},
     "output_type": "display_data"
    }
   ],
   "source": [
    "sns.set()\n",
    "female_plot=data_female.plot(style='o', x='height', y='weight', figsize=(15,10), grid=True, markersize=5, legend=False,fontsize=20)\n",
    "female_plot.set_ylabel('Weight(Kg)',fontsize=20)\n",
    "female_plot.set_xlabel('Height(m)',fontsize=20)"
   ]
  },
  {
   "cell_type": "code",
   "execution_count": 10,
   "metadata": {},
   "outputs": [
    {
     "name": "stdout",
     "output_type": "stream",
     "text": [
      "Average Height = 1.6m, Average Weight = 53.21kg\n"
     ]
    }
   ],
   "source": [
    "print('Average Height = ' + str(round(data_female['height'].mean(), 2)) + 'm, Average Weight = ' + str(round(data_female['weight'].mean(), 2)) + 'kg')"
   ]
  },
  {
   "cell_type": "code",
   "execution_count": 11,
   "metadata": {},
   "outputs": [
    {
     "data": {
      "text/plain": [
       "Text(0.5, 0, 'Height(m)')"
      ]
     },
     "execution_count": 11,
     "metadata": {},
     "output_type": "execute_result"
    },
    {
     "data": {
      "image/png": "[encoded data removed]",
      "text/plain": [
       "<Figure size 1500x1000 with 1 Axes>"
      ]
     },
     "metadata": {},
     "output_type": "display_data"
    }
   ],
   "source": [
    "sns.set()\n",
    "male_plot=data_male.plot(style='o', x='height', y='weight', figsize=(15,10), grid=True, markersize=5, legend=False)\n",
    "male_plot.set_ylabel('Weight(Kg)')\n",
    "male_plot.set_xlabel('Height(m)')"
   ]
  },
  {
   "cell_type": "code",
   "execution_count": 12,
   "metadata": {},
   "outputs": [
    {
     "name": "stdout",
     "output_type": "stream",
     "text": [
      "Average Height = 1.71m, Average Weight = 68.34kg\n"
     ]
    }
   ],
   "source": [
    "print('Average Height = ' + str(round(data_male['height'].mean(), 2)) + 'm, Average Weight = ' + str(round(data_male['weight'].mean(), 2)) + 'kg')"
   ]
  },
  {
   "cell_type": "code",
   "execution_count": 13,
   "metadata": {},
   "outputs": [],
   "source": [
    "def bmi_classification(bmi):\n",
    "    if bmi < 18.5:\n",
    "        return 'Underweight'\n",
    "    elif (bmi >= 18.5) and (bmi < 25):\n",
    "        return 'Normal'\n",
    "    elif (bmi >= 25) and (bmi < 30):\n",
    "        return 'Overweight'\n",
    "    elif (bmi >= 30) and (bmi < 35):\n",
    "        return 'Moderately obese'\n",
    "    elif (bmi >= 35) and (bmi < 40):\n",
    "        return 'Severely obese'\n",
    "    else:\n",
    "        return 'Very severely obese'"
   ]
  },
  {
   "cell_type": "code",
   "execution_count": 14,
   "metadata": {},
   "outputs": [
    {
     "data": {
      "text/plain": [
       "Normal            562\n",
       "Underweight       143\n",
       "Overweight        128\n",
       "Severely obese     10\n",
       "Name: class, dtype: int64"
      ]
     },
     "execution_count": 14,
     "metadata": {},
     "output_type": "execute_result"
    }
   ],
   "source": [
    "data['class'] = data['BMI'].apply(bmi_classification)\n",
    "data['class'].value_counts()"
   ]
  },
  {
   "cell_type": "markdown",
   "metadata": {},
   "source": [
    "# Feature Extraction"
   ]
  },
  {
   "cell_type": "code",
   "execution_count": 46,
   "metadata": {},
   "outputs": [
    {
     "name": "stdout",
     "output_type": "stream",
     "text": [
      "1/1 [==============================] - 0s 87ms/step\n",
      "1/1 [==============================] - 0s 57ms/step\n",
      "1/1 [==============================] - 0s 42ms/step\n",
      "1/1 [==============================] - 0s 33ms/step\n",
      "1/1 [==============================] - 0s 30ms/step\n",
      "1/1 [==============================] - 0s 29ms/step\n",
      "1/1 [==============================] - 0s 24ms/step\n",
      "1/1 [==============================] - 0s 25ms/step\n",
      "1/1 [==============================] - 0s 23ms/step\n",
      "1/1 [==============================] - 0s 22ms/step\n",
      "1/1 [==============================] - 0s 22ms/step\n",
      "1/1 [==============================] - 0s 23ms/step\n",
      "3/3 [==============================] - 0s 7ms/step\n",
      "1/1 [==============================] - 0s 25ms/step\n",
      "1/1 [==============================] - 2s 2s/step\n",
      "Embedding 0: [-0.01238016  0.04195865 -0.03892315 -0.02416944  0.00598683 -0.00931887\n",
      "  0.05583096  0.00661304 -0.04188681 -0.00414699  0.0270933  -0.06026321\n",
      "  0.02355335 -0.05267568  0.02777824 -0.02830275  0.00878681  0.07143531\n",
      "  0.04291633 -0.01500196  0.0079311  -0.03129581 -0.02695928  0.00640218\n",
      "  0.02231543 -0.08038918 -0.04967715 -0.01139402  0.01819123 -0.03324544\n",
      " -0.01932928 -0.0572249  -0.02696761 -0.03700328  0.03565097  0.04243122\n",
      "  0.02871593 -0.03080709  0.08262108  0.02716535 -0.03270808  0.06892665\n",
      "  0.08696834 -0.0318022   0.04141892  0.12449038 -0.08629052 -0.01682361\n",
      " -0.00321074 -0.02556845  0.03175042  0.00755261 -0.05586913  0.05934015\n",
      " -0.00020353 -0.06401641  0.09373603 -0.02618217 -0.0197058  -0.02026069\n",
      " -0.01400886  0.05242854 -0.02407989 -0.0618791  -0.06361212 -0.03029323\n",
      "  0.00229295 -0.04421794 -0.01591407  0.03928291 -0.01374113 -0.06358904\n",
      " -0.01774442 -0.06349079  0.05939281 -0.0614443   0.00554926  0.05851413\n",
      " -0.06372476  0.00799035 -0.07207692  0.05769359 -0.05237954 -0.03834905\n",
      " -0.01213677  0.03347064 -0.00190212  0.01691158 -0.04711378  0.04591556\n",
      " -0.03290376 -0.03307177 -0.00431348 -0.04428202  0.01496738 -0.00955568\n",
      " -0.03374547 -0.00173388 -0.02478761  0.07423091 -0.06146676 -0.01298675\n",
      " -0.01734973 -0.03760904 -0.07809207 -0.06589714 -0.02084734  0.02596237\n",
      " -0.03297119  0.03865527 -0.02726741 -0.00826062  0.0058177  -0.02797994\n",
      "  0.02378013 -0.00605273  0.01551419 -0.01789607 -0.06993683 -0.01097579\n",
      " -0.07626818  0.00235503  0.04041978  0.04379562  0.06372631 -0.01190747\n",
      " -0.04480064  0.01719945 -0.04562788  0.06161902 -0.03737793 -0.02720065\n",
      "  0.00772879 -0.00017525  0.05349622  0.09176043  0.08603709  0.03895248\n",
      " -0.0250252  -0.05047496  0.02412866 -0.08312571  0.0215127   0.04293022\n",
      " -0.00069375 -0.01073655  0.02173461  0.02011525  0.03630533 -0.01254956\n",
      "  0.02245261 -0.03703346 -0.04314126  0.0117741   0.07492483 -0.04918604\n",
      "  0.00590319  0.04900674  0.04763745  0.0345323   0.01922303 -0.01897476\n",
      " -0.06622095  0.06401986  0.02119992  0.03983333 -0.01960952 -0.0101696\n",
      " -0.00174357  0.00718108 -0.03505614  0.02755797  0.0260319  -0.05436871\n",
      " -0.01956954 -0.02839838  0.11255021 -0.01963468 -0.0514712  -0.04601268\n",
      " -0.03884524 -0.04129336  0.02137592 -0.04262113 -0.02484584  0.0147948\n",
      "  0.02358253 -0.08309118  0.01636887  0.00954694 -0.03710811  0.0397379\n",
      "  0.07567689 -0.00467165 -0.01968799 -0.08446432 -0.02009188 -0.06911629\n",
      " -0.0029186  -0.04161188 -0.03630042  0.02918593  0.03513377 -0.03194214\n",
      "  0.00417669  0.04531237 -0.08895121 -0.03108227 -0.01785298  0.09078047\n",
      "  0.02529856  0.005688   -0.04625977 -0.09923874 -0.03578919 -0.01766763\n",
      "  0.01372806 -0.07145802  0.0364096  -0.00098283  0.11414912 -0.03372932\n",
      "  0.02955988  0.01547935 -0.03065848 -0.06235787  0.04147185  0.00841437\n",
      " -0.07493017  0.00675631 -0.01714231  0.07804719 -0.00305263  0.04798887\n",
      "  0.05632285 -0.0012957   0.01690928 -0.02717561  0.02270544  0.02443139\n",
      " -0.0295622  -0.01780428  0.0089119   0.04310263 -0.03933153 -0.05796133\n",
      " -0.04125844 -0.00778722 -0.01667707  0.06250163  0.02039605  0.01591092\n",
      " -0.02256198 -0.0346332   0.04645824 -0.00178371  0.00232122  0.00694483\n",
      "  0.0312715   0.00380129 -0.06421706  0.02093388  0.00274692 -0.00204367\n",
      " -0.00483742 -0.00572757 -0.04868852 -0.01778109 -0.07218501 -0.01436312\n",
      " -0.04325172 -0.03748634 -0.0461707  -0.01889121  0.02104378 -0.03844498\n",
      " -0.01620721  0.00639538  0.04780485  0.02765793 -0.03650894  0.03399111\n",
      "  0.01988651 -0.04221887  0.0047054  -0.01945313  0.06525972  0.01589591\n",
      " -0.04472631 -0.0166936   0.06274257  0.01829411 -0.03612846  0.02051979\n",
      "  0.04894056  0.01775565  0.04856542  0.06146834 -0.02727161 -0.05193796\n",
      " -0.01848877  0.04442401 -0.03413066 -0.07794199  0.03327023  0.0144197\n",
      "  0.05988702 -0.00202432  0.0606222  -0.05091826 -0.01308054 -0.03789191\n",
      " -0.01626701  0.00783974  0.0362795  -0.02682425  0.03918713 -0.15064828\n",
      " -0.01520993 -0.01695095  0.00930335  0.02353496  0.01748956  0.00657209\n",
      " -0.01873146  0.01772419  0.00449933 -0.02745882 -0.06102938 -0.02077061\n",
      " -0.1117589  -0.00876607 -0.00372929  0.03076692 -0.00907264  0.00188364\n",
      "  0.0047919   0.01640788 -0.00367074  0.01031384 -0.04547835 -0.00078079\n",
      " -0.00619694  0.06339958 -0.00635006  0.02749229  0.06552926 -0.00791003\n",
      "  0.04631397  0.06213817  0.01390131  0.09618404  0.00767124  0.07577598\n",
      "  0.01835715 -0.01589015  0.0107772   0.06592911 -0.00310326 -0.04809619\n",
      "  0.10501615  0.02453245 -0.04812802 -0.00404773 -0.01772743  0.07217618\n",
      "  0.03950265  0.04399121 -0.05292471 -0.02526949 -0.00913055 -0.08004848\n",
      "  0.01365489  0.01930932 -0.04106607  0.05242242  0.01502122 -0.06410088\n",
      " -0.03433276 -0.01856638  0.10063904 -0.00464815 -0.02154269  0.06365223\n",
      " -0.00632044  0.00092353 -0.07393666 -0.05141048 -0.02040843  0.02298093\n",
      "  0.05425017  0.02776562 -0.01323094  0.05348758 -0.02663018  0.02008583\n",
      " -0.00320821 -0.02208882 -0.03158265  0.08575277  0.00966935 -0.06520181\n",
      " -0.03940251  0.00462326  0.01969202  0.05221217 -0.00288855  0.03790072\n",
      "  0.06951903 -0.04321437 -0.01266804  0.06897552 -0.02607192  0.00494957\n",
      " -0.03534483 -0.02767927 -0.01658922  0.0354155   0.0305509   0.06104401\n",
      " -0.07249128 -0.04013964 -0.11746694 -0.07147496  0.01392003  0.08255544\n",
      "  0.0909187  -0.03980664  0.0325872   0.10089692 -0.03266722  0.09137508\n",
      "  0.0427568  -0.03986757  0.00219755  0.03236813 -0.02754782 -0.06014102\n",
      " -0.01205006 -0.04276979  0.06884097  0.04199286  0.00154937  0.00494476\n",
      "  0.03756424 -0.04729665  0.02335867  0.03300031 -0.04502417 -0.03587708\n",
      " -0.03142711 -0.00312103 -0.05392344 -0.08075561 -0.06779829 -0.00501119\n",
      "  0.05802356  0.06925861  0.02010407  0.00676308 -0.08208239  0.0725565\n",
      "  0.01903496  0.02096018 -0.05501276  0.08573189 -0.03349075  0.07814478\n",
      " -0.02603647  0.06410287  0.02856677  0.04165856 -0.01391505 -0.02758626\n",
      "  0.03976569 -0.03692722 -0.035448    0.050859   -0.01586504 -0.01160805\n",
      " -0.06222702 -0.10375521  0.06706132  0.0006378  -0.00449764  0.08303061\n",
      " -0.03279243  0.04060418  0.03579623  0.02633552  0.01263702 -0.08271161\n",
      "  0.00569847  0.02552717  0.00201892  0.00494533  0.03495953 -0.00926676\n",
      " -0.04532996  0.03402623 -0.00128428 -0.07106759  0.04799842  0.0254857\n",
      " -0.03770657  0.10603074  0.06639119  0.06739487 -0.00131792 -0.08918474\n",
      " -0.09088232 -0.0105021 ]\n"
     ]
    }
   ],
   "source": [
    "from keras_facenet import FaceNet\n",
    "import cv2\n",
    "\n",
    "# Load an image\n",
    "image = cv2.imread(\"E:/Face_2_BMI_Estimation_Project/Data/all_celeb/images/f_022.jpg\")\n",
    "\n",
    "# Create a FaceNet object\n",
    "embedder = FaceNet()\n",
    "\n",
    "# Extract the face embeddings\n",
    "detections = embedder.extract(image, threshold=0.95)\n",
    "\n",
    "# Print the embeddings\n",
    "for i, detection in enumerate(detections):\n",
    "    print(f'Embedding {i}: {detection[\"embedding\"]}')\n",
    "    #print(len(detection[\"embedding\"]))\n"
   ]
  },
  {
   "cell_type": "code",
   "execution_count": 53,
   "metadata": {},
   "outputs": [
    {
     "name": "stdout",
     "output_type": "stream",
     "text": [
      "1/1 [==============================] - 2s 2s/step\n",
      "1/1 [==============================] - 2s 2s/step\n",
      "1/1 [==============================] - 2s 2s/step\n",
      "1/1 [==============================] - 2s 2s/step\n",
      "1/1 [==============================] - 2s 2s/step\n",
      "1/1 [==============================] - 2s 2s/step\n",
      "1/1 [==============================] - 3s 3s/step\n",
      "1/1 [==============================] - 2s 2s/step\n",
      "1/1 [==============================] - 3s 3s/step\n",
      "1/1 [==============================] - 2s 2s/step\n",
      "1/1 [==============================] - 2s 2s/step\n",
      "1/1 [==============================] - 2s 2s/step\n",
      "1/1 [==============================] - 2s 2s/step\n",
      "1/1 [==============================] - 2s 2s/step\n",
      "1/1 [==============================] - 2s 2s/step\n",
      "1/1 [==============================] - 3s 3s/step\n",
      "1/1 [==============================] - 2s 2s/step\n",
      "1/1 [==============================] - 3s 3s/step\n",
      "1/1 [==============================] - 3s 3s/step\n",
      "1/1 [==============================] - 3s 3s/step\n",
      "1/1 [==============================] - 2s 2s/step\n",
      "1/1 [==============================] - 2s 2s/step\n",
      "1/1 [==============================] - 2s 2s/step\n",
      "1/1 [==============================] - 2s 2s/step\n",
      "1/1 [==============================] - 2s 2s/step\n",
      "1/1 [==============================] - 2s 2s/step\n",
      "1/1 [==============================] - 2s 2s/step\n",
      "1/1 [==============================] - 2s 2s/step\n",
      "1/1 [==============================] - 2s 2s/step\n",
      "1/1 [==============================] - 2s 2s/step\n",
      "1/1 [==============================] - 2s 2s/step\n",
      "1/1 [==============================] - 2s 2s/step\n",
      "1/1 [==============================] - 2s 2s/step\n",
      "1/1 [==============================] - 2s 2s/step\n",
      "1/1 [==============================] - 2s 2s/step\n",
      "1/1 [==============================] - 2s 2s/step\n",
      "1/1 [==============================] - 2s 2s/step\n",
      "1/1 [==============================] - 2s 2s/step\n",
      "1/1 [==============================] - 2s 2s/step\n",
      "1/1 [==============================] - 2s 2s/step\n",
      "1/1 [==============================] - 2s 2s/step\n",
      "1/1 [==============================] - 2s 2s/step\n",
      "1/1 [==============================] - 3s 3s/step\n",
      "1/1 [==============================] - 2s 2s/step\n",
      "1/1 [==============================] - 2s 2s/step\n",
      "1/1 [==============================] - 2s 2s/step\n",
      "1/1 [==============================] - 2s 2s/step\n",
      "1/1 [==============================] - 2s 2s/step\n",
      "1/1 [==============================] - 2s 2s/step\n",
      "1/1 [==============================] - 3s 3s/step\n",
      "1/1 [==============================] - 2s 2s/step\n",
      "1/1 [==============================] - 2s 2s/step\n",
      "1/1 [==============================] - 2s 2s/step\n",
      "1/1 [==============================] - 2s 2s/step\n",
      "1/1 [==============================] - 3s 3s/step\n",
      "1/1 [==============================] - 3s 3s/step\n",
      "1/1 [==============================] - 2s 2s/step\n",
      "1/1 [==============================] - 2s 2s/step\n",
      "1/1 [==============================] - 2s 2s/step\n",
      "1/1 [==============================] - 4s 4s/step\n",
      "1/1 [==============================] - 4s 4s/step\n",
      "1/1 [==============================] - 2s 2s/step\n",
      "1/1 [==============================] - 2s 2s/step\n",
      "1/1 [==============================] - 3s 3s/step\n",
      "1/1 [==============================] - 4s 4s/step\n",
      "1/1 [==============================] - 4s 4s/step\n",
      "1/1 [==============================] - 4s 4s/step\n",
      "1/1 [==============================] - 3s 3s/step\n",
      "1/1 [==============================] - 3s 3s/step\n",
      "1/1 [==============================] - 3s 3s/step\n",
      "1/1 [==============================] - 3s 3s/step\n",
      "1/1 [==============================] - 3s 3s/step\n",
      "1/1 [==============================] - 3s 3s/step\n",
      "1/1 [==============================] - 3s 3s/step\n",
      "1/1 [==============================] - 2s 2s/step\n",
      "1/1 [==============================] - 3s 3s/step\n",
      "1/1 [==============================] - 3s 3s/step\n",
      "1/1 [==============================] - 3s 3s/step\n",
      "1/1 [==============================] - 3s 3s/step\n",
      "1/1 [==============================] - 3s 3s/step\n",
      "1/1 [==============================] - 3s 3s/step\n",
      "1/1 [==============================] - 3s 3s/step\n",
      "1/1 [==============================] - 3s 3s/step\n",
      "1/1 [==============================] - 3s 3s/step\n",
      "1/1 [==============================] - 3s 3s/step\n",
      "1/1 [==============================] - 3s 3s/step\n",
      "1/1 [==============================] - 3s 3s/step\n",
      "1/1 [==============================] - 3s 3s/step\n",
      "1/1 [==============================] - 3s 3s/step\n",
      "1/1 [==============================] - 3s 3s/step\n",
      "1/1 [==============================] - 4s 4s/step\n",
      "1/1 [==============================] - 2s 2s/step\n",
      "1/1 [==============================] - 3s 3s/step\n",
      "1/1 [==============================] - 2s 2s/step\n",
      "1/1 [==============================] - 3s 3s/step\n",
      "1/1 [==============================] - 3s 3s/step\n",
      "1/1 [==============================] - 3s 3s/step\n",
      "1/1 [==============================] - 3s 3s/step\n",
      "1/1 [==============================] - 3s 3s/step\n",
      "1/1 [==============================] - 3s 3s/step\n",
      "1/1 [==============================] - 3s 3s/step\n",
      "1/1 [==============================] - 3s 3s/step\n",
      "1/1 [==============================] - 3s 3s/step\n",
      "1/1 [==============================] - 3s 3s/step\n",
      "1/1 [==============================] - 3s 3s/step\n",
      "1/1 [==============================] - 3s 3s/step\n",
      "1/1 [==============================] - 3s 3s/step\n",
      "1/1 [==============================] - 3s 3s/step\n",
      "1/1 [==============================] - 3s 3s/step\n",
      "1/1 [==============================] - 3s 3s/step\n",
      "1/1 [==============================] - 2s 2s/step\n",
      "1/1 [==============================] - 3s 3s/step\n",
      "1/1 [==============================] - 3s 3s/step\n",
      "1/1 [==============================] - 3s 3s/step\n",
      "1/1 [==============================] - 3s 3s/step\n",
      "1/1 [==============================] - 2s 2s/step\n",
      "1/1 [==============================] - 2s 2s/step\n",
      "1/1 [==============================] - 3s 3s/step\n",
      "1/1 [==============================] - 3s 3s/step\n",
      "1/1 [==============================] - 3s 3s/step\n",
      "1/1 [==============================] - 3s 3s/step\n",
      "1/1 [==============================] - 3s 3s/step\n",
      "1/1 [==============================] - 2s 2s/step\n",
      "1/1 [==============================] - 3s 3s/step\n",
      "1/1 [==============================] - 2s 2s/step\n",
      "1/1 [==============================] - 2s 2s/step\n",
      "1/1 [==============================] - 3s 3s/step\n",
      "1/1 [==============================] - 2s 2s/step\n",
      "1/1 [==============================] - 3s 3s/step\n",
      "1/1 [==============================] - 3s 3s/step\n",
      "1/1 [==============================] - 2s 2s/step\n",
      "1/1 [==============================] - 3s 3s/step\n",
      "1/1 [==============================] - 2s 2s/step\n",
      "1/1 [==============================] - 3s 3s/step\n",
      "1/1 [==============================] - 2s 2s/step\n",
      "1/1 [==============================] - 3s 3s/step\n",
      "1/1 [==============================] - 3s 3s/step\n",
      "1/1 [==============================] - 2s 2s/step\n",
      "1/1 [==============================] - 3s 3s/step\n",
      "1/1 [==============================] - 3s 3s/step\n",
      "1/1 [==============================] - 3s 3s/step\n",
      "1/1 [==============================] - 2s 2s/step\n",
      "1/1 [==============================] - 2s 2s/step\n",
      "1/1 [==============================] - 2s 2s/step\n",
      "1/1 [==============================] - 2s 2s/step\n",
      "1/1 [==============================] - 3s 3s/step\n",
      "1/1 [==============================] - 2s 2s/step\n",
      "1/1 [==============================] - 3s 3s/step\n",
      "1/1 [==============================] - 2s 2s/step\n",
      "1/1 [==============================] - 2s 2s/step\n",
      "1/1 [==============================] - 3s 3s/step\n",
      "1/1 [==============================] - 3s 3s/step\n",
      "1/1 [==============================] - 3s 3s/step\n",
      "1/1 [==============================] - 2s 2s/step\n",
      "1/1 [==============================] - 2s 2s/step\n",
      "1/1 [==============================] - 3s 3s/step\n",
      "1/1 [==============================] - 3s 3s/step\n",
      "1/1 [==============================] - 3s 3s/step\n",
      "1/1 [==============================] - 2s 2s/step\n",
      "1/1 [==============================] - 3s 3s/step\n",
      "1/1 [==============================] - 3s 3s/step\n",
      "1/1 [==============================] - 3s 3s/step\n",
      "1/1 [==============================] - 3s 3s/step\n",
      "1/1 [==============================] - 3s 3s/step\n",
      "1/1 [==============================] - 3s 3s/step\n",
      "1/1 [==============================] - 3s 3s/step\n",
      "1/1 [==============================] - 3s 3s/step\n",
      "1/1 [==============================] - 3s 3s/step\n",
      "1/1 [==============================] - 3s 3s/step\n",
      "1/1 [==============================] - 3s 3s/step\n",
      "1/1 [==============================] - 3s 3s/step\n",
      "1/1 [==============================] - 3s 3s/step\n",
      "1/1 [==============================] - 2s 2s/step\n",
      "1/1 [==============================] - 3s 3s/step\n",
      "1/1 [==============================] - 3s 3s/step\n",
      "1/1 [==============================] - 3s 3s/step\n",
      "1/1 [==============================] - 2s 2s/step\n",
      "1/1 [==============================] - 2s 2s/step\n",
      "1/1 [==============================] - 3s 3s/step\n",
      "1/1 [==============================] - 3s 3s/step\n",
      "1/1 [==============================] - 3s 3s/step\n",
      "1/1 [==============================] - 3s 3s/step\n",
      "1/1 [==============================] - 2s 2s/step\n",
      "1/1 [==============================] - 3s 3s/step\n",
      "1/1 [==============================] - 2s 2s/step\n",
      "1/1 [==============================] - 2s 2s/step\n",
      "1/1 [==============================] - 4s 4s/step\n",
      "1/1 [==============================] - 3s 3s/step\n",
      "1/1 [==============================] - 3s 3s/step\n",
      "1/1 [==============================] - 3s 3s/step\n",
      "1/1 [==============================] - 3s 3s/step\n",
      "1/1 [==============================] - 3s 3s/step\n",
      "1/1 [==============================] - 2s 2s/step\n",
      "1/1 [==============================] - 2s 2s/step\n",
      "1/1 [==============================] - 2s 2s/step\n",
      "1/1 [==============================] - 2s 2s/step\n",
      "1/1 [==============================] - 2s 2s/step\n",
      "1/1 [==============================] - 2s 2s/step\n",
      "1/1 [==============================] - 2s 2s/step\n",
      "1/1 [==============================] - 2s 2s/step\n",
      "1/1 [==============================] - 2s 2s/step\n",
      "1/1 [==============================] - 2s 2s/step\n",
      "1/1 [==============================] - 2s 2s/step\n",
      "1/1 [==============================] - 2s 2s/step\n",
      "1/1 [==============================] - 2s 2s/step\n",
      "1/1 [==============================] - 2s 2s/step\n",
      "1/1 [==============================] - 2s 2s/step\n",
      "1/1 [==============================] - 2s 2s/step\n",
      "1/1 [==============================] - 2s 2s/step\n",
      "1/1 [==============================] - 2s 2s/step\n",
      "1/1 [==============================] - 2s 2s/step\n",
      "1/1 [==============================] - 2s 2s/step\n",
      "1/1 [==============================] - 3s 3s/step\n",
      "1/1 [==============================] - 3s 3s/step\n",
      "1/1 [==============================] - 2s 2s/step\n",
      "1/1 [==============================] - 2s 2s/step\n",
      "1/1 [==============================] - 2s 2s/step\n",
      "1/1 [==============================] - 2s 2s/step\n",
      "1/1 [==============================] - 2s 2s/step\n",
      "1/1 [==============================] - 2s 2s/step\n",
      "1/1 [==============================] - 2s 2s/step\n",
      "1/1 [==============================] - 2s 2s/step\n",
      "1/1 [==============================] - 2s 2s/step\n",
      "1/1 [==============================] - 2s 2s/step\n",
      "1/1 [==============================] - 2s 2s/step\n",
      "1/1 [==============================] - 2s 2s/step\n",
      "1/1 [==============================] - 2s 2s/step\n",
      "1/1 [==============================] - 2s 2s/step\n",
      "1/1 [==============================] - 2s 2s/step\n",
      "1/1 [==============================] - 2s 2s/step\n",
      "1/1 [==============================] - 2s 2s/step\n",
      "1/1 [==============================] - 2s 2s/step\n",
      "1/1 [==============================] - 2s 2s/step\n",
      "1/1 [==============================] - 2s 2s/step\n",
      "1/1 [==============================] - 2s 2s/step\n",
      "1/1 [==============================] - 2s 2s/step\n",
      "1/1 [==============================] - 2s 2s/step\n",
      "1/1 [==============================] - 2s 2s/step\n",
      "1/1 [==============================] - 2s 2s/step\n",
      "1/1 [==============================] - 2s 2s/step\n",
      "1/1 [==============================] - 2s 2s/step\n",
      "1/1 [==============================] - 2s 2s/step\n",
      "1/1 [==============================] - 2s 2s/step\n",
      "1/1 [==============================] - 2s 2s/step\n",
      "1/1 [==============================] - 2s 2s/step\n",
      "1/1 [==============================] - 2s 2s/step\n",
      "1/1 [==============================] - 2s 2s/step\n",
      "1/1 [==============================] - 2s 2s/step\n",
      "1/1 [==============================] - 2s 2s/step\n",
      "1/1 [==============================] - 2s 2s/step\n",
      "1/1 [==============================] - 2s 2s/step\n",
      "1/1 [==============================] - 2s 2s/step\n",
      "1/1 [==============================] - 2s 2s/step\n",
      "1/1 [==============================] - 2s 2s/step\n",
      "1/1 [==============================] - 2s 2s/step\n",
      "1/1 [==============================] - 2s 2s/step\n",
      "1/1 [==============================] - 2s 2s/step\n",
      "1/1 [==============================] - 2s 2s/step\n",
      "1/1 [==============================] - 3s 3s/step\n",
      "1/1 [==============================] - 2s 2s/step\n",
      "1/1 [==============================] - 2s 2s/step\n",
      "1/1 [==============================] - 2s 2s/step\n",
      "1/1 [==============================] - 2s 2s/step\n",
      "1/1 [==============================] - 2s 2s/step\n",
      "1/1 [==============================] - 2s 2s/step\n",
      "1/1 [==============================] - 2s 2s/step\n",
      "1/1 [==============================] - 2s 2s/step\n",
      "1/1 [==============================] - 2s 2s/step\n",
      "1/1 [==============================] - 2s 2s/step\n",
      "1/1 [==============================] - 3s 3s/step\n",
      "1/1 [==============================] - 3s 3s/step\n",
      "1/1 [==============================] - 2s 2s/step\n",
      "1/1 [==============================] - 2s 2s/step\n",
      "1/1 [==============================] - 2s 2s/step\n",
      "1/1 [==============================] - 2s 2s/step\n",
      "1/1 [==============================] - 2s 2s/step\n",
      "1/1 [==============================] - 2s 2s/step\n",
      "1/1 [==============================] - 2s 2s/step\n",
      "1/1 [==============================] - 2s 2s/step\n",
      "1/1 [==============================] - 2s 2s/step\n",
      "1/1 [==============================] - 2s 2s/step\n",
      "1/1 [==============================] - 2s 2s/step\n",
      "1/1 [==============================] - 3s 3s/step\n",
      "1/1 [==============================] - 2s 2s/step\n",
      "1/1 [==============================] - 2s 2s/step\n",
      "1/1 [==============================] - 2s 2s/step\n",
      "1/1 [==============================] - 2s 2s/step\n",
      "1/1 [==============================] - 2s 2s/step\n",
      "1/1 [==============================] - 3s 3s/step\n",
      "1/1 [==============================] - 2s 2s/step\n",
      "1/1 [==============================] - 2s 2s/step\n",
      "1/1 [==============================] - 2s 2s/step\n",
      "1/1 [==============================] - 2s 2s/step\n",
      "1/1 [==============================] - 2s 2s/step\n",
      "1/1 [==============================] - 3s 3s/step\n",
      "1/1 [==============================] - 2s 2s/step\n",
      "1/1 [==============================] - 2s 2s/step\n",
      "1/1 [==============================] - 2s 2s/step\n",
      "1/1 [==============================] - 2s 2s/step\n",
      "1/1 [==============================] - 2s 2s/step\n",
      "1/1 [==============================] - 2s 2s/step\n",
      "1/1 [==============================] - 2s 2s/step\n",
      "1/1 [==============================] - 4s 4s/step\n",
      "1/1 [==============================] - 3s 3s/step\n",
      "1/1 [==============================] - 2s 2s/step\n",
      "1/1 [==============================] - 2s 2s/step\n",
      "1/1 [==============================] - 3s 3s/step\n",
      "1/1 [==============================] - 2s 2s/step\n",
      "1/1 [==============================] - 2s 2s/step\n",
      "1/1 [==============================] - 2s 2s/step\n",
      "1/1 [==============================] - 2s 2s/step\n",
      "1/1 [==============================] - 2s 2s/step\n",
      "1/1 [==============================] - 2s 2s/step\n",
      "1/1 [==============================] - 2s 2s/step\n",
      "1/1 [==============================] - 2s 2s/step\n",
      "1/1 [==============================] - 2s 2s/step\n",
      "1/1 [==============================] - 2s 2s/step\n",
      "1/1 [==============================] - 2s 2s/step\n",
      "1/1 [==============================] - 2s 2s/step\n",
      "1/1 [==============================] - 2s 2s/step\n",
      "1/1 [==============================] - 2s 2s/step\n",
      "1/1 [==============================] - 3s 3s/step\n",
      "1/1 [==============================] - 3s 3s/step\n",
      "1/1 [==============================] - 3s 3s/step\n",
      "1/1 [==============================] - 3s 3s/step\n",
      "1/1 [==============================] - 3s 3s/step\n",
      "1/1 [==============================] - 3s 3s/step\n",
      "1/1 [==============================] - 3s 3s/step\n",
      "1/1 [==============================] - 3s 3s/step\n",
      "1/1 [==============================] - 3s 3s/step\n",
      "1/1 [==============================] - 3s 3s/step\n",
      "1/1 [==============================] - 3s 3s/step\n",
      "1/1 [==============================] - 3s 3s/step\n",
      "1/1 [==============================] - 3s 3s/step\n",
      "1/1 [==============================] - 3s 3s/step\n",
      "1/1 [==============================] - 3s 3s/step\n",
      "1/1 [==============================] - 3s 3s/step\n",
      "1/1 [==============================] - 3s 3s/step\n",
      "1/1 [==============================] - 3s 3s/step\n",
      "1/1 [==============================] - 3s 3s/step\n",
      "1/1 [==============================] - 3s 3s/step\n",
      "1/1 [==============================] - 3s 3s/step\n",
      "1/1 [==============================] - 4s 4s/step\n",
      "1/1 [==============================] - 2s 2s/step\n",
      "1/1 [==============================] - 2s 2s/step\n",
      "1/1 [==============================] - 3s 3s/step\n",
      "1/1 [==============================] - 3s 3s/step\n",
      "1/1 [==============================] - 3s 3s/step\n",
      "1/1 [==============================] - 3s 3s/step\n",
      "1/1 [==============================] - 2s 2s/step\n",
      "1/1 [==============================] - 2s 2s/step\n",
      "1/1 [==============================] - 2s 2s/step\n",
      "1/1 [==============================] - 2s 2s/step\n",
      "1/1 [==============================] - 3s 3s/step\n",
      "1/1 [==============================] - 3s 3s/step\n",
      "1/1 [==============================] - 2s 2s/step\n",
      "1/1 [==============================] - 2s 2s/step\n",
      "1/1 [==============================] - 2s 2s/step\n",
      "1/1 [==============================] - 2s 2s/step\n",
      "1/1 [==============================] - 2s 2s/step\n",
      "1/1 [==============================] - 2s 2s/step\n",
      "1/1 [==============================] - 2s 2s/step\n",
      "1/1 [==============================] - 2s 2s/step\n",
      "1/1 [==============================] - 3s 3s/step\n",
      "1/1 [==============================] - 2s 2s/step\n",
      "1/1 [==============================] - 2s 2s/step\n",
      "1/1 [==============================] - 2s 2s/step\n",
      "1/1 [==============================] - 2s 2s/step\n",
      "1/1 [==============================] - 2s 2s/step\n",
      "1/1 [==============================] - 2s 2s/step\n",
      "1/1 [==============================] - 2s 2s/step\n",
      "1/1 [==============================] - 2s 2s/step\n",
      "1/1 [==============================] - 2s 2s/step\n",
      "1/1 [==============================] - 2s 2s/step\n",
      "1/1 [==============================] - 2s 2s/step\n",
      "1/1 [==============================] - 2s 2s/step\n",
      "1/1 [==============================] - 2s 2s/step\n",
      "1/1 [==============================] - 2s 2s/step\n",
      "1/1 [==============================] - 2s 2s/step\n",
      "1/1 [==============================] - 2s 2s/step\n",
      "1/1 [==============================] - 2s 2s/step\n",
      "1/1 [==============================] - 2s 2s/step\n",
      "1/1 [==============================] - 2s 2s/step\n",
      "1/1 [==============================] - 2s 2s/step\n",
      "1/1 [==============================] - 2s 2s/step\n",
      "1/1 [==============================] - 2s 2s/step\n",
      "1/1 [==============================] - 2s 2s/step\n",
      "1/1 [==============================] - 2s 2s/step\n",
      "1/1 [==============================] - 2s 2s/step\n",
      "1/1 [==============================] - 2s 2s/step\n",
      "1/1 [==============================] - 2s 2s/step\n",
      "1/1 [==============================] - 2s 2s/step\n",
      "1/1 [==============================] - 2s 2s/step\n",
      "1/1 [==============================] - 2s 2s/step\n",
      "1/1 [==============================] - 2s 2s/step\n",
      "1/1 [==============================] - 2s 2s/step\n",
      "1/1 [==============================] - 2s 2s/step\n",
      "1/1 [==============================] - 2s 2s/step\n",
      "1/1 [==============================] - 2s 2s/step\n",
      "1/1 [==============================] - 2s 2s/step\n",
      "1/1 [==============================] - 2s 2s/step\n",
      "1/1 [==============================] - 2s 2s/step\n",
      "1/1 [==============================] - 2s 2s/step\n",
      "1/1 [==============================] - 2s 2s/step\n",
      "1/1 [==============================] - 2s 2s/step\n",
      "1/1 [==============================] - 2s 2s/step\n",
      "1/1 [==============================] - 2s 2s/step\n",
      "1/1 [==============================] - 2s 2s/step\n",
      "1/1 [==============================] - 2s 2s/step\n",
      "1/1 [==============================] - 2s 2s/step\n",
      "1/1 [==============================] - 2s 2s/step\n",
      "1/1 [==============================] - 2s 2s/step\n",
      "1/1 [==============================] - 2s 2s/step\n",
      "1/1 [==============================] - 2s 2s/step\n",
      "1/1 [==============================] - 3s 3s/step\n",
      "1/1 [==============================] - 2s 2s/step\n",
      "1/1 [==============================] - 3s 3s/step\n",
      "1/1 [==============================] - 2s 2s/step\n",
      "1/1 [==============================] - 2s 2s/step\n",
      "1/1 [==============================] - 2s 2s/step\n",
      "1/1 [==============================] - 2s 2s/step\n",
      "1/1 [==============================] - 2s 2s/step\n",
      "1/1 [==============================] - 2s 2s/step\n",
      "1/1 [==============================] - 2s 2s/step\n",
      "1/1 [==============================] - 2s 2s/step\n",
      "1/1 [==============================] - 2s 2s/step\n",
      "1/1 [==============================] - 2s 2s/step\n",
      "1/1 [==============================] - 2s 2s/step\n",
      "1/1 [==============================] - 2s 2s/step\n",
      "1/1 [==============================] - 2s 2s/step\n",
      "1/1 [==============================] - 2s 2s/step\n",
      "1/1 [==============================] - 2s 2s/step\n",
      "1/1 [==============================] - 2s 2s/step\n",
      "1/1 [==============================] - 2s 2s/step\n",
      "1/1 [==============================] - 2s 2s/step\n",
      "1/1 [==============================] - 3s 3s/step\n",
      "1/1 [==============================] - 2s 2s/step\n",
      "1/1 [==============================] - 4s 4s/step\n",
      "1/1 [==============================] - 2s 2s/step\n",
      "1/1 [==============================] - 3s 3s/step\n",
      "1/1 [==============================] - 2s 2s/step\n",
      "1/1 [==============================] - 2s 2s/step\n",
      "1/1 [==============================] - 3s 3s/step\n",
      "1/1 [==============================] - 3s 3s/step\n",
      "1/1 [==============================] - 3s 3s/step\n",
      "1/1 [==============================] - 2s 2s/step\n",
      "1/1 [==============================] - 3s 3s/step\n",
      "1/1 [==============================] - 3s 3s/step\n",
      "1/1 [==============================] - 2s 2s/step\n",
      "1/1 [==============================] - 2s 2s/step\n",
      "1/1 [==============================] - 3s 3s/step\n",
      "1/1 [==============================] - 2s 2s/step\n",
      "1/1 [==============================] - 2s 2s/step\n",
      "1/1 [==============================] - 3s 3s/step\n",
      "1/1 [==============================] - 2s 2s/step\n",
      "1/1 [==============================] - 2s 2s/step\n",
      "1/1 [==============================] - 3s 3s/step\n",
      "1/1 [==============================] - 3s 3s/step\n",
      "1/1 [==============================] - 3s 3s/step\n",
      "1/1 [==============================] - 3s 3s/step\n",
      "1/1 [==============================] - 3s 3s/step\n",
      "1/1 [==============================] - 2s 2s/step\n",
      "1/1 [==============================] - 3s 3s/step\n",
      "1/1 [==============================] - 2s 2s/step\n",
      "1/1 [==============================] - 2s 2s/step\n",
      "1/1 [==============================] - 2s 2s/step\n",
      "1/1 [==============================] - 2s 2s/step\n",
      "1/1 [==============================] - 2s 2s/step\n",
      "1/1 [==============================] - 3s 3s/step\n",
      "1/1 [==============================] - 2s 2s/step\n",
      "1/1 [==============================] - 3s 3s/step\n",
      "1/1 [==============================] - 3s 3s/step\n",
      "1/1 [==============================] - 3s 3s/step\n",
      "1/1 [==============================] - 2s 2s/step\n",
      "1/1 [==============================] - 4s 4s/step\n",
      "1/1 [==============================] - 3s 3s/step\n",
      "1/1 [==============================] - 2s 2s/step\n",
      "1/1 [==============================] - 3s 3s/step\n",
      "1/1 [==============================] - 3s 3s/step\n",
      "1/1 [==============================] - 3s 3s/step\n",
      "1/1 [==============================] - 3s 3s/step\n",
      "1/1 [==============================] - 2s 2s/step\n",
      "1/1 [==============================] - 2s 2s/step\n",
      "1/1 [==============================] - 3s 3s/step\n",
      "1/1 [==============================] - 3s 3s/step\n",
      "1/1 [==============================] - 3s 3s/step\n",
      "1/1 [==============================] - 3s 3s/step\n",
      "1/1 [==============================] - 3s 3s/step\n",
      "1/1 [==============================] - 3s 3s/step\n",
      "1/1 [==============================] - 2s 2s/step\n",
      "1/1 [==============================] - 2s 2s/step\n",
      "1/1 [==============================] - 2s 2s/step\n",
      "1/1 [==============================] - 3s 3s/step\n",
      "1/1 [==============================] - 3s 3s/step\n",
      "1/1 [==============================] - 3s 3s/step\n",
      "1/1 [==============================] - 3s 3s/step\n",
      "1/1 [==============================] - 3s 3s/step\n",
      "1/1 [==============================] - 2s 2s/step\n",
      "1/1 [==============================] - 3s 3s/step\n",
      "1/1 [==============================] - 3s 3s/step\n",
      "1/1 [==============================] - 2s 2s/step\n",
      "1/1 [==============================] - 2s 2s/step\n",
      "1/1 [==============================] - 2s 2s/step\n",
      "1/1 [==============================] - 3s 3s/step\n",
      "1/1 [==============================] - 3s 3s/step\n",
      "1/1 [==============================] - 3s 3s/step\n",
      "1/1 [==============================] - 2s 2s/step\n",
      "1/1 [==============================] - 3s 3s/step\n",
      "1/1 [==============================] - 3s 3s/step\n",
      "1/1 [==============================] - 3s 3s/step\n",
      "1/1 [==============================] - 3s 3s/step\n",
      "1/1 [==============================] - 3s 3s/step\n",
      "1/1 [==============================] - 3s 3s/step\n",
      "1/1 [==============================] - 2s 2s/step\n",
      "1/1 [==============================] - 2s 2s/step\n",
      "1/1 [==============================] - 2s 2s/step\n",
      "1/1 [==============================] - 3s 3s/step\n",
      "1/1 [==============================] - 3s 3s/step\n",
      "1/1 [==============================] - 3s 3s/step\n",
      "1/1 [==============================] - 3s 3s/step\n",
      "1/1 [==============================] - 3s 3s/step\n",
      "1/1 [==============================] - 3s 3s/step\n",
      "1/1 [==============================] - 4s 4s/step\n",
      "1/1 [==============================] - 3s 3s/step\n",
      "1/1 [==============================] - 2s 2s/step\n",
      "1/1 [==============================] - 2s 2s/step\n",
      "1/1 [==============================] - 2s 2s/step\n",
      "1/1 [==============================] - 3s 3s/step\n",
      "1/1 [==============================] - 3s 3s/step\n",
      "1/1 [==============================] - 3s 3s/step\n",
      "1/1 [==============================] - 3s 3s/step\n",
      "1/1 [==============================] - 3s 3s/step\n",
      "1/1 [==============================] - 3s 3s/step\n",
      "1/1 [==============================] - 3s 3s/step\n",
      "1/1 [==============================] - 3s 3s/step\n",
      "1/1 [==============================] - 3s 3s/step\n",
      "1/1 [==============================] - 3s 3s/step\n",
      "1/1 [==============================] - 2s 2s/step\n",
      "1/1 [==============================] - 2s 2s/step\n",
      "1/1 [==============================] - 3s 3s/step\n",
      "1/1 [==============================] - 2s 2s/step\n",
      "1/1 [==============================] - 2s 2s/step\n",
      "1/1 [==============================] - 2s 2s/step\n",
      "1/1 [==============================] - 2s 2s/step\n",
      "1/1 [==============================] - 2s 2s/step\n",
      "1/1 [==============================] - 2s 2s/step\n",
      "1/1 [==============================] - 2s 2s/step\n",
      "1/1 [==============================] - 2s 2s/step\n",
      "1/1 [==============================] - 2s 2s/step\n",
      "1/1 [==============================] - 2s 2s/step\n",
      "1/1 [==============================] - 3s 3s/step\n",
      "1/1 [==============================] - 3s 3s/step\n",
      "1/1 [==============================] - 3s 3s/step\n",
      "1/1 [==============================] - 2s 2s/step\n",
      "1/1 [==============================] - 2s 2s/step\n",
      "1/1 [==============================] - 2s 2s/step\n",
      "1/1 [==============================] - 2s 2s/step\n",
      "1/1 [==============================] - 2s 2s/step\n",
      "1/1 [==============================] - 3s 3s/step\n",
      "1/1 [==============================] - 2s 2s/step\n",
      "1/1 [==============================] - 2s 2s/step\n",
      "1/1 [==============================] - 2s 2s/step\n",
      "1/1 [==============================] - 2s 2s/step\n",
      "1/1 [==============================] - 2s 2s/step\n",
      "1/1 [==============================] - 2s 2s/step\n",
      "1/1 [==============================] - 2s 2s/step\n",
      "1/1 [==============================] - 2s 2s/step\n",
      "1/1 [==============================] - 2s 2s/step\n",
      "1/1 [==============================] - 2s 2s/step\n",
      "1/1 [==============================] - 2s 2s/step\n",
      "1/1 [==============================] - 3s 3s/step\n",
      "1/1 [==============================] - 2s 2s/step\n",
      "1/1 [==============================] - 2s 2s/step\n",
      "1/1 [==============================] - 2s 2s/step\n",
      "1/1 [==============================] - 2s 2s/step\n",
      "1/1 [==============================] - 2s 2s/step\n",
      "1/1 [==============================] - 2s 2s/step\n",
      "1/1 [==============================] - 2s 2s/step\n",
      "1/1 [==============================] - 2s 2s/step\n",
      "1/1 [==============================] - 3s 3s/step\n",
      "1/1 [==============================] - 2s 2s/step\n",
      "1/1 [==============================] - 2s 2s/step\n",
      "1/1 [==============================] - 3s 3s/step\n",
      "1/1 [==============================] - 3s 3s/step\n",
      "1/1 [==============================] - 2s 2s/step\n",
      "1/1 [==============================] - 3s 3s/step\n",
      "1/1 [==============================] - 3s 3s/step\n",
      "1/1 [==============================] - 3s 3s/step\n",
      "1/1 [==============================] - 3s 3s/step\n",
      "1/1 [==============================] - 3s 3s/step\n",
      "1/1 [==============================] - 2s 2s/step\n",
      "1/1 [==============================] - 3s 3s/step\n",
      "1/1 [==============================] - 2s 2s/step\n",
      "1/1 [==============================] - 2s 2s/step\n",
      "1/1 [==============================] - 3s 3s/step\n",
      "1/1 [==============================] - 4s 4s/step\n",
      "1/1 [==============================] - 4s 4s/step\n",
      "1/1 [==============================] - 3s 3s/step\n",
      "1/1 [==============================] - 3s 3s/step\n",
      "1/1 [==============================] - 3s 3s/step\n",
      "1/1 [==============================] - 3s 3s/step\n",
      "1/1 [==============================] - 3s 3s/step\n",
      "1/1 [==============================] - 3s 3s/step\n",
      "1/1 [==============================] - 3s 3s/step\n",
      "1/1 [==============================] - 3s 3s/step\n",
      "1/1 [==============================] - 3s 3s/step\n",
      "1/1 [==============================] - 5s 5s/step\n",
      "1/1 [==============================] - 4s 4s/step\n",
      "1/1 [==============================] - 4s 4s/step\n",
      "1/1 [==============================] - 4s 4s/step\n",
      "1/1 [==============================] - 3s 3s/step\n",
      "1/1 [==============================] - 4s 4s/step\n",
      "1/1 [==============================] - 4s 4s/step\n",
      "1/1 [==============================] - 4s 4s/step\n",
      "1/1 [==============================] - 4s 4s/step\n",
      "1/1 [==============================] - 4s 4s/step\n",
      "1/1 [==============================] - 4s 4s/step\n",
      "1/1 [==============================] - 3s 3s/step\n",
      "1/1 [==============================] - 2s 2s/step\n",
      "1/1 [==============================] - 3s 3s/step\n",
      "1/1 [==============================] - 3s 3s/step\n",
      "1/1 [==============================] - 3s 3s/step\n",
      "1/1 [==============================] - 3s 3s/step\n",
      "1/1 [==============================] - 3s 3s/step\n",
      "1/1 [==============================] - 3s 3s/step\n",
      "1/1 [==============================] - 2s 2s/step\n",
      "1/1 [==============================] - 2s 2s/step\n",
      "1/1 [==============================] - 3s 3s/step\n",
      "1/1 [==============================] - 3s 3s/step\n",
      "1/1 [==============================] - 2s 2s/step\n",
      "1/1 [==============================] - 3s 3s/step\n",
      "1/1 [==============================] - 3s 3s/step\n",
      "1/1 [==============================] - 2s 2s/step\n",
      "1/1 [==============================] - 2s 2s/step\n",
      "1/1 [==============================] - 2s 2s/step\n",
      "1/1 [==============================] - 2s 2s/step\n",
      "1/1 [==============================] - 2s 2s/step\n",
      "1/1 [==============================] - 2s 2s/step\n",
      "1/1 [==============================] - 2s 2s/step\n",
      "1/1 [==============================] - 3s 3s/step\n",
      "1/1 [==============================] - 2s 2s/step\n",
      "1/1 [==============================] - 2s 2s/step\n",
      "1/1 [==============================] - 4s 4s/step\n",
      "1/1 [==============================] - 3s 3s/step\n",
      "1/1 [==============================] - 3s 3s/step\n",
      "1/1 [==============================] - 3s 3s/step\n",
      "1/1 [==============================] - 3s 3s/step\n",
      "1/1 [==============================] - 2s 2s/step\n",
      "1/1 [==============================] - 2s 2s/step\n",
      "1/1 [==============================] - 3s 3s/step\n",
      "1/1 [==============================] - 2s 2s/step\n",
      "1/1 [==============================] - 3s 3s/step\n",
      "1/1 [==============================] - 2s 2s/step\n",
      "1/1 [==============================] - 2s 2s/step\n",
      "1/1 [==============================] - 3s 3s/step\n",
      "1/1 [==============================] - 3s 3s/step\n",
      "1/1 [==============================] - 3s 3s/step\n",
      "1/1 [==============================] - 2s 2s/step\n",
      "1/1 [==============================] - 2s 2s/step\n",
      "1/1 [==============================] - 3s 3s/step\n",
      "1/1 [==============================] - 2s 2s/step\n",
      "1/1 [==============================] - 3s 3s/step\n",
      "1/1 [==============================] - 3s 3s/step\n",
      "1/1 [==============================] - 2s 2s/step\n",
      "1/1 [==============================] - 3s 3s/step\n",
      "1/1 [==============================] - 3s 3s/step\n",
      "1/1 [==============================] - 3s 3s/step\n",
      "1/1 [==============================] - 2s 2s/step\n",
      "1/1 [==============================] - 2s 2s/step\n",
      "1/1 [==============================] - 3s 3s/step\n",
      "1/1 [==============================] - 2s 2s/step\n",
      "1/1 [==============================] - 3s 3s/step\n",
      "1/1 [==============================] - 2s 2s/step\n",
      "1/1 [==============================] - 2s 2s/step\n",
      "1/1 [==============================] - 2s 2s/step\n",
      "1/1 [==============================] - 3s 3s/step\n",
      "1/1 [==============================] - 3s 3s/step\n",
      "1/1 [==============================] - 3s 3s/step\n",
      "1/1 [==============================] - 2s 2s/step\n",
      "1/1 [==============================] - 2s 2s/step\n",
      "1/1 [==============================] - 2s 2s/step\n",
      "1/1 [==============================] - 2s 2s/step\n",
      "1/1 [==============================] - 2s 2s/step\n",
      "1/1 [==============================] - 2s 2s/step\n",
      "1/1 [==============================] - 2s 2s/step\n",
      "1/1 [==============================] - 2s 2s/step\n",
      "1/1 [==============================] - 2s 2s/step\n",
      "1/1 [==============================] - 2s 2s/step\n",
      "1/1 [==============================] - 2s 2s/step\n",
      "1/1 [==============================] - 2s 2s/step\n",
      "1/1 [==============================] - 3s 3s/step\n",
      "1/1 [==============================] - 2s 2s/step\n",
      "1/1 [==============================] - 2s 2s/step\n",
      "1/1 [==============================] - 3s 3s/step\n",
      "1/1 [==============================] - 2s 2s/step\n",
      "1/1 [==============================] - 2s 2s/step\n",
      "1/1 [==============================] - 3s 3s/step\n",
      "1/1 [==============================] - 2s 2s/step\n",
      "1/1 [==============================] - 2s 2s/step\n",
      "1/1 [==============================] - 3s 3s/step\n",
      "1/1 [==============================] - 3s 3s/step\n",
      "1/1 [==============================] - 2s 2s/step\n",
      "1/1 [==============================] - 3s 3s/step\n",
      "1/1 [==============================] - 2s 2s/step\n",
      "1/1 [==============================] - 2s 2s/step\n",
      "1/1 [==============================] - 2s 2s/step\n",
      "1/1 [==============================] - 2s 2s/step\n",
      "1/1 [==============================] - 2s 2s/step\n",
      "1/1 [==============================] - 2s 2s/step\n",
      "1/1 [==============================] - 2s 2s/step\n",
      "1/1 [==============================] - 2s 2s/step\n",
      "1/1 [==============================] - 3s 3s/step\n",
      "1/1 [==============================] - 2s 2s/step\n",
      "1/1 [==============================] - 3s 3s/step\n",
      "1/1 [==============================] - 3s 3s/step\n",
      "1/1 [==============================] - 2s 2s/step\n",
      "1/1 [==============================] - 2s 2s/step\n",
      "1/1 [==============================] - 3s 3s/step\n",
      "1/1 [==============================] - 3s 3s/step\n",
      "1/1 [==============================] - 2s 2s/step\n",
      "1/1 [==============================] - 3s 3s/step\n",
      "1/1 [==============================] - 2s 2s/step\n",
      "1/1 [==============================] - 2s 2s/step\n",
      "1/1 [==============================] - 3s 3s/step\n",
      "1/1 [==============================] - 3s 3s/step\n",
      "1/1 [==============================] - 3s 3s/step\n",
      "1/1 [==============================] - 3s 3s/step\n",
      "1/1 [==============================] - 3s 3s/step\n",
      "1/1 [==============================] - 3s 3s/step\n",
      "1/1 [==============================] - 3s 3s/step\n",
      "1/1 [==============================] - 2s 2s/step\n",
      "1/1 [==============================] - 2s 2s/step\n",
      "1/1 [==============================] - 3s 3s/step\n",
      "1/1 [==============================] - 2s 2s/step\n",
      "1/1 [==============================] - 2s 2s/step\n",
      "1/1 [==============================] - 2s 2s/step\n",
      "1/1 [==============================] - 3s 3s/step\n",
      "1/1 [==============================] - 2s 2s/step\n",
      "1/1 [==============================] - 3s 3s/step\n",
      "1/1 [==============================] - 3s 3s/step\n",
      "1/1 [==============================] - 2s 2s/step\n",
      "1/1 [==============================] - 2s 2s/step\n",
      "1/1 [==============================] - 3s 3s/step\n",
      "1/1 [==============================] - 3s 3s/step\n",
      "1/1 [==============================] - 3s 3s/step\n",
      "1/1 [==============================] - 3s 3s/step\n",
      "1/1 [==============================] - 3s 3s/step\n",
      "1/1 [==============================] - 2s 2s/step\n",
      "1/1 [==============================] - 2s 2s/step\n",
      "1/1 [==============================] - 2s 2s/step\n",
      "1/1 [==============================] - 3s 3s/step\n",
      "1/1 [==============================] - 2s 2s/step\n",
      "1/1 [==============================] - 2s 2s/step\n",
      "1/1 [==============================] - 2s 2s/step\n",
      "1/1 [==============================] - 2s 2s/step\n",
      "1/1 [==============================] - 3s 3s/step\n",
      "1/1 [==============================] - 3s 3s/step\n",
      "1/1 [==============================] - 3s 3s/step\n",
      "1/1 [==============================] - 2s 2s/step\n",
      "1/1 [==============================] - 3s 3s/step\n",
      "1/1 [==============================] - 2s 2s/step\n",
      "1/1 [==============================] - 3s 3s/step\n",
      "1/1 [==============================] - 3s 3s/step\n",
      "1/1 [==============================] - 3s 3s/step\n",
      "1/1 [==============================] - 2s 2s/step\n",
      "1/1 [==============================] - 2s 2s/step\n",
      "1/1 [==============================] - 2s 2s/step\n",
      "1/1 [==============================] - 2s 2s/step\n",
      "1/1 [==============================] - 2s 2s/step\n",
      "1/1 [==============================] - 2s 2s/step\n",
      "1/1 [==============================] - 2s 2s/step\n",
      "1/1 [==============================] - 3s 3s/step\n",
      "1/1 [==============================] - 2s 2s/step\n",
      "1/1 [==============================] - 2s 2s/step\n",
      "1/1 [==============================] - 3s 3s/step\n",
      "1/1 [==============================] - 2s 2s/step\n",
      "1/1 [==============================] - 2s 2s/step\n",
      "1/1 [==============================] - 2s 2s/step\n",
      "1/1 [==============================] - 2s 2s/step\n",
      "1/1 [==============================] - 2s 2s/step\n",
      "1/1 [==============================] - 2s 2s/step\n",
      "1/1 [==============================] - 2s 2s/step\n",
      "1/1 [==============================] - 2s 2s/step\n",
      "1/1 [==============================] - 2s 2s/step\n",
      "1/1 [==============================] - 2s 2s/step\n",
      "1/1 [==============================] - 2s 2s/step\n",
      "1/1 [==============================] - 3s 3s/step\n",
      "1/1 [==============================] - 2s 2s/step\n",
      "1/1 [==============================] - 2s 2s/step\n",
      "1/1 [==============================] - 2s 2s/step\n",
      "1/1 [==============================] - 3s 3s/step\n",
      "1/1 [==============================] - 2s 2s/step\n",
      "1/1 [==============================] - 2s 2s/step\n",
      "1/1 [==============================] - 2s 2s/step\n",
      "1/1 [==============================] - 3s 3s/step\n",
      "1/1 [==============================] - 3s 3s/step\n",
      "1/1 [==============================] - 3s 3s/step\n",
      "1/1 [==============================] - 3s 3s/step\n",
      "1/1 [==============================] - 2s 2s/step\n",
      "1/1 [==============================] - 2s 2s/step\n",
      "1/1 [==============================] - 2s 2s/step\n",
      "1/1 [==============================] - 2s 2s/step\n",
      "1/1 [==============================] - 2s 2s/step\n",
      "1/1 [==============================] - 2s 2s/step\n",
      "1/1 [==============================] - 2s 2s/step\n",
      "1/1 [==============================] - 2s 2s/step\n",
      "1/1 [==============================] - 2s 2s/step\n",
      "1/1 [==============================] - 2s 2s/step\n",
      "1/1 [==============================] - 2s 2s/step\n",
      "1/1 [==============================] - 3s 3s/step\n",
      "1/1 [==============================] - 5s 5s/step\n",
      "1/1 [==============================] - 4s 4s/step\n",
      "1/1 [==============================] - 4s 4s/step\n",
      "1/1 [==============================] - 4s 4s/step\n",
      "1/1 [==============================] - 3s 3s/step\n",
      "1/1 [==============================] - 4s 4s/step\n",
      "1/1 [==============================] - 3s 3s/step\n",
      "1/1 [==============================] - 3s 3s/step\n",
      "1/1 [==============================] - 3s 3s/step\n",
      "1/1 [==============================] - 2s 2s/step\n",
      "1/1 [==============================] - 3s 3s/step\n",
      "1/1 [==============================] - 4s 4s/step\n",
      "1/1 [==============================] - 4s 4s/step\n",
      "1/1 [==============================] - 3s 3s/step\n",
      "1/1 [==============================] - 4s 4s/step\n",
      "1/1 [==============================] - 3s 3s/step\n",
      "1/1 [==============================] - 4s 4s/step\n",
      "1/1 [==============================] - 3s 3s/step\n",
      "1/1 [==============================] - 3s 3s/step\n",
      "1/1 [==============================] - 3s 3s/step\n",
      "1/1 [==============================] - 3s 3s/step\n",
      "1/1 [==============================] - 3s 3s/step\n",
      "1/1 [==============================] - 3s 3s/step\n",
      "1/1 [==============================] - 2s 2s/step\n",
      "1/1 [==============================] - 2s 2s/step\n",
      "1/1 [==============================] - 3s 3s/step\n",
      "1/1 [==============================] - 3s 3s/step\n",
      "1/1 [==============================] - 3s 3s/step\n",
      "1/1 [==============================] - 3s 3s/step\n",
      "1/1 [==============================] - 3s 3s/step\n",
      "1/1 [==============================] - 4s 4s/step\n",
      "1/1 [==============================] - 3s 3s/step\n",
      "1/1 [==============================] - 3s 3s/step\n",
      "[0.04271777346730232, -0.007555531803518534, -0.1061275452375412, 0.08445832878351212, -0.03740688040852547, 0.0321957990527153, -0.053134337067604065, 0.0935126468539238, -0.023172276094555855, 0.02441924437880516, 0.013042181730270386, 0.028253359720110893, -0.04713112860918045, -0.05226544290781021, -0.001329304650425911, -0.08019222319126129, 0.04293004795908928, 0.055496782064437866, 0.005755752325057983, -0.07157623767852783, -0.08197328448295593, 0.09323057532310486, 0.06194792687892914, -0.053359974175691605, -0.0643063560128212, 0.040478140115737915, 0.03628460317850113, 0.006489270832389593, 0.011228096671402454, -0.0012930001830682158, -0.04699065536260605, 0.05774696171283722, 0.03331809863448143, -0.021909013390541077, -0.03812677040696144, 0.02631009742617607, -0.02091139182448387, 0.0247149970382452, -0.018976489081978798, -0.0126036973670125, -0.020603222772479057, 0.01710030622780323, 0.013961676508188248, -0.05106592923402786, 0.009766866452991962, -0.028029700741171837, 0.005359398666769266, 0.0419112853705883, -0.06916758418083191, -0.034703925251960754, -0.01494867168366909, 0.06428796797990799, 0.07851257920265198, -0.02241729199886322, -0.09262623637914658, 0.0785927101969719, -0.030673040077090263, 0.11413197219371796, 0.03549882769584656, -0.031687065958976746, -0.04672102630138397, 0.04307973012328148, -0.05301613733172417, -0.034153521060943604, 0.002880172338336706, 0.01699770987033844, 0.002963267033919692, 0.008570287376642227, 0.010336779989302158, 0.015248673968017101, 0.015092551708221436, 0.045173585414886475, -0.009355747140944004, -0.01271514967083931, 0.04164562746882439, -0.09779715538024902, -0.09683461487293243, -0.046055831015110016, -0.05750366300344467, -0.026527566835284233, 0.023443391546607018, 0.06090490147471428, 0.0104235103353858, -0.005483162123709917, -0.023822646588087082, 0.03975148871541023, 0.0015502593014389277, -0.002281201770529151, -0.05207483470439911, -0.025050943717360497, -0.009559650905430317, -0.01523502916097641, 0.04082663729786873, -0.07940614968538284, 0.02439281716942787, 0.0608685240149498, 0.03609541803598404, 0.005317586474120617, -0.08432554453611374, 0.008349967189133167, 0.008440328761935234, -0.009291171096265316, -0.002956055337563157, -0.008890234865248203, 0.012579478323459625, -0.010580585338175297, 0.030727364122867584, -0.03996740281581879, -0.00020274592679925263, -0.04911400377750397, 0.08546550571918488, 0.011496261693537235, -0.07342352718114853, -0.06582924723625183, 0.024314245209097862, 0.006985103711485863, 0.08320882171392441, 0.007386824581772089, -0.01981099508702755, 0.05528750270605087, -0.1003454178571701, -0.0031752216164022684, -0.02187727577984333, -0.008724821731448174, -0.07780631631612778, -0.0658964291214943, 0.0533033162355423, 0.02685132436454296, -0.030338121578097343, -0.07422160357236862, -0.04848999157547951, -0.050569213926792145, 0.07034949213266373, -0.05223609134554863, -0.08374752104282379, 0.04329070821404457, -0.04103167727589607, 0.016092151403427124, 0.09477701038122177, 0.09445437788963318, -0.02061421237885952, 0.04743616282939911, 0.014234190806746483, 0.05613645911216736, 0.024774644523859024, -0.0006610003183595836, -0.04373664781451225, -0.009820584207773209, 0.028141845017671585, 0.07356620579957962, 0.06943151354789734, 0.01885288953781128, -0.042091384530067444, -0.001047582016326487, 0.09097454696893692, 0.026782706379890442, 0.012284698896110058, -0.0033023639116436243, 0.0363759770989418, -0.06729428470134735, 0.07813338190317154, 0.0435459204018116, -0.000555027334485203, 0.03142687305808067, 0.018828200176358223, -0.005811289884150028, -0.04310261458158493, -0.03339030221104622, -0.05755764618515968, 0.0991639569401741, -0.030766686424613, 0.015443365089595318, -0.028623269870877266, -0.013928902335464954, -0.007252110168337822, 0.053129155188798904, -0.006200239062309265, 0.00799150113016367, -0.016270417720079422, 0.005056565161794424, -0.03649652749300003, -0.05814775824546814, -0.009798295795917511, 0.0467822402715683, 0.05512983351945877, 0.03541097417473793, 0.01995600387454033, 0.0636468455195427, 0.06687550246715546, 0.06533531844615936, 0.07748188078403473, -0.01968074031174183, 0.02474571205675602, -0.0345887616276741, 0.08125372231006622, 0.020508281886577606, -0.00400735205039382, 0.011710179969668388, -0.01933767832815647, 0.024495745077729225, 0.012065512128174305, 0.01752752996981144, -0.017438624054193497, -0.04831146448850632, 0.03762225806713104, 0.020596744492650032, 0.011676189489662647, -0.06270092725753784, -0.01909003034234047, 0.03447503224015236, 0.016243070363998413, 0.0033935385290533304, -0.005184806417673826, 0.0137842558324337, -0.043528150767087936, 0.05513496696949005, 0.0019179594237357378, -0.004808414727449417, -0.044779516756534576, 0.0022551873698830605, 0.007955641485750675, -0.028641920536756516, -0.033185385167598724, -0.013487002812325954, 0.015316874720156193, -0.01842530257999897, -0.03428497910499573, 0.022395193576812744, 0.02218206599354744, 0.03177478536963463, 0.0560859739780426, 0.03138284757733345, 0.01425757072865963, -0.08680979162454605, -0.06985100358724594, 0.004308552481234074, 0.03171947970986366, -0.007465308532118797, 0.014728691428899765, -0.0779629647731781, -0.01695907488465309, -0.04410342499613762, 0.00045782115194015205, -0.04644261673092842, 0.05124577507376671, 0.06576453149318695, -0.021052565425634384, -0.012121433392167091, 0.02459103614091873, 0.03426169976592064, -0.042456451803445816, 0.009651930071413517, 0.022229183465242386, 0.05682855099439621, 0.02380736917257309, -0.014729681424796581, 0.035058822482824326, -0.025578254833817482, 0.06671662628650665, 0.018175674602389336, 0.030824195593595505, -0.0016146637499332428, 0.03550341725349426, -0.0411405973136425, -0.046691007912158966, -0.07172868400812149, 0.018874313682317734, -0.015037087723612785, -0.02951638586819172, -0.031365275382995605, -0.018774544820189476, 0.07991578429937363, 0.008700691163539886, 0.004573435056954622, 0.0030467621982097626, -0.023159779608249664, -0.059115298092365265, -0.02432366833090782, 0.016221925616264343, 0.03055134415626526, 0.043370574712753296, 0.03578048199415207, -0.04788009077310562, -0.1253020167350769, -0.06649186462163925, 0.04213815927505493, 0.0516568198800087, 0.06556769460439682, -0.053222790360450745, -0.0519486740231514, 0.00496713537722826, -0.043832603842020035, 0.04319065436720848, 0.03627987205982208, -0.08329811692237854, -0.09409046173095703, 0.01834719628095627, 0.03872472792863846, 0.05145104229450226, 0.012599986977875233, 0.03837038204073906, -0.01238239835947752, -0.00859324261546135, 0.003980270121246576, 0.022572718560695648, -0.07539884746074677, -0.0028193506877869368, -0.030979078263044357, -0.010369347408413887, 0.042903587222099304, 0.021882599219679832, 0.01897375099360943, -0.04473860189318657, -0.01792755536735058, 0.06708076596260071, 0.04714377969503403, 0.04694320634007454, -0.004294920712709427, 0.05559410899877548, -0.042190779000520706, 0.10306186974048615, -0.02976279892027378, -0.013509374111890793, 0.05179322883486748, 0.016407420858740807, -0.019502069801092148, 0.009189371950924397, -0.013767993077635765, 0.07138785719871521, 0.0249562319368124, 0.030802730470895767, 0.047803014516830444, 0.020495235919952393, 0.06155570223927498, -0.004637591540813446, 0.07373227179050446, -0.05306605249643326, -0.02225762978196144, 0.02902948297560215, -0.07189511507749557, 0.08819375932216644, 0.005544241983443499, 0.016812004148960114, -0.011258932761847973, 0.0014077575178816915, -0.05846899747848511, 0.003545561106875539, 0.03338281437754631, 0.08867271989583969, 0.016763808205723763, -0.03208253160119057, -0.007013892754912376, -0.0893387496471405, 0.0036219358444213867, -0.010656420141458511, 0.00399400619789958, 0.049384281039237976, 0.015418360009789467, -0.018397841602563858, 0.03427395224571228, -0.009326687082648277, -0.00040109711699187756, -0.06322868913412094, -0.007774882484227419, -0.02900061011314392, 0.02947426773607731, 0.07866153866052628, -0.006906887516379356, 0.021184483543038368, -0.05250750109553337, -0.04897533357143402, 0.009141509421169758, -0.026907091960310936, -0.008258684538304806, 0.01198806893080473, 0.05297575145959854, -0.04756021872162819, 0.06721527129411697, -0.029930435121059418, -0.08493497967720032, -0.07897726446390152, -0.0014692585682496428, -0.016083933413028717, 0.0370023176074028, 0.0777411088347435, -0.04740715026855469, 0.014929626137018204, -0.040289729833602905, 0.013558358885347843, -0.03763483464717865, 0.020498983561992645, 0.04846073314547539, 0.011828496120870113, -0.09248875826597214, -0.035577550530433655, 0.01344857458025217, 0.03461453318595886, 0.02337513118982315, 0.03232009336352348, 0.04618479311466217, -0.015546002425253391, 0.00811475794762373, -0.03956165909767151, 0.07955840229988098, 0.01705472357571125, -0.02351781539618969, -0.05801825225353241, -0.01457007136195898, 0.017937736585736275, -0.021270517259836197, 0.07068198919296265, -0.023587815463542938, 0.005844496190547943, 0.023469284176826477, -0.030672186985611916, 0.016451383009552956, 0.057143643498420715, 0.05901314690709114, -0.06777861714363098, -0.03619071841239929, 0.0876041129231453, 0.020637037232518196, 0.04609978199005127, 0.037225235253572464, -0.06796976178884506, -0.06643275171518326, 0.05823780968785286, 0.022366546094417572, -0.009484685957431793, -0.060071736574172974, -0.04364423081278801, 0.005298919975757599, -0.0201436597853899, -0.0876891016960144, -0.06256712228059769, -0.028897518292069435, -0.03965844586491585, -0.0514712817966938, 0.012631175108253956, -0.03434531018137932, -0.02582147717475891, 0.06299562007188797, 0.00855205487459898, 0.049507852643728256, -0.016821563243865967, -0.021583497524261475, -0.0613480843603611, 0.0793008804321289, -0.06350352615118027, -0.07175782322883606, 0.0311307143419981, 0.0728670209646225, 0.02614377811551094, -0.021975453943014145, 0.007868705317378044, -0.025744549930095673, 0.0008084108703769743, 0.06507954001426697, 0.11413664370775223, 0.04436444118618965, 0.004674077965319157, 0.08051649481058121, 0.013769314624369144, -0.008957364596426487, 0.03161880373954773, 0.02334580197930336, 0.0189798753708601, 0.015686731785535812, 0.03555665537714958, 0.0037711383774876595, 0.015812164172530174, -0.04026055335998535, 0.08412083238363266, -0.04079045355319977, -0.031138010323047638, 0.005947500932961702, 0.025687234476208687, -0.03335749730467796, 0.07453606277704239, 0.008969580754637718, 0.028052804991602898, 0.016399245709180832, 0.026603255420923233, -0.027725426480174065, 0.024104012176394463, -0.0421459786593914, -0.09094914048910141, 0.057618968188762665, -0.004197677597403526, -0.058267828077077866, 0.061854783445596695, -0.016270840540528297, -0.03404996544122696, -0.04235771298408508, 0.06088380888104439, -0.03976014629006386, 0.05624909698963165, -0.004214523825794458, 0.03302749991416931, -0.041383348405361176, -0.03987767547369003, 0.07266984134912491, -0.010979603976011276, 0.06932878494262695, -0.008824235759675503, -0.018042592331767082, -0.029695920646190643, -0.016653748229146004, -0.0023892628960311413, -0.0159247238188982, -0.026074539870023727, 0.005520674400031567]\n",
      "843\n"
     ]
    }
   ],
   "source": [
    "from keras_facenet import FaceNet\n",
    "import cv2\n",
    "\n",
    "def encode_image(image_path):\n",
    "    embedder = FaceNet()\n",
    "    try:\n",
    "        image=cv2.imread(image_path)\n",
    "    except FileNotFoundError:\n",
    "        print(\"File Not Found at: \" + image_path)\n",
    "        return np.zeros(128).tolist()\n",
    "    face_encoding=embedder.embeddings([image])\n",
    "    return face_encoding[0].tolist()\n",
    "\n",
    "import os\n",
    "face_data=[]\n",
    "for image_name in data.image:\n",
    "    if os.path.exists(\"E:/Face_2_BMI/Data/all_celeb/images/\" + image_name + \".jpg\"):\n",
    "        face_encoding=encode_image(\"E:/Face_2_BMI/Data/all_celeb/images/\" + image_name + \".jpg\")\n",
    "        face_data.append(face_encoding)\n",
    "    elif os.path.exists(\"E:/Face_2_BMI/Data/all_celeb/images/\" + image_name + \".jpeg\"):\n",
    "        face_encoding=encode_image(\"E:/Face_2_BMI/Data/all_celeb/images/\" + image_name + \".jpeg\")\n",
    "        face_data.append(face_encoding)\n",
    "    elif os.path.exists(\"E:/Face_2_BMI/Data/all_celeb/images/\" + image_name + \".png\"):\n",
    "        face_encoding=encode_image(\"E:/Face_2_BMI/Data/all_celeb/images/\" + image_name + \".png\")\n",
    "        face_data.append(face_encoding)\n",
    "\n",
    "print(face_data)\n",
    "print(len(face_data))"
   ]
  },
  {
   "cell_type": "code",
   "execution_count": 69,
   "metadata": {},
   "outputs": [
    {
     "name": "stdout",
     "output_type": "stream",
     "text": [
      "[-0.1909390389919281, 0.07279763370752335, 0.02886577881872654, -0.09059697389602661, -0.1071649119257927, -0.03733478859066963, -0.0024412181228399277, -0.08618122339248657, 0.26867711544036865, -0.17787954211235046, 0.16378527879714966, -0.08120566606521606, -0.2600371539592743, 0.05679319053888321, -0.09344872832298279, 0.1439731866121292, -0.2666242718696594, -0.12898655235767365, -0.005990025587379932, -0.08238662779331207, 0.1636556088924408, -0.030105851590633392, -0.017434312030673027, 0.17537452280521393, -0.19501477479934692, -0.2992565631866455, -0.1332128345966339, -0.15321968495845795, -0.027065100148320198, -0.05518220737576485, 0.028351429849863052, 0.01450544223189354, -0.19083327054977417, -0.014055460691452026, -0.04629885032773018, 0.1398436278104782, 0.00991016998887062, -0.09233434498310089, 0.1124408021569252, -0.040937118232250214, -0.2053675800561905, -0.08374737203121185, 0.09840519726276398, 0.20432566106319427, 0.13757428526878357, 0.034723926335573196, 0.017842696979641914, -0.10400021076202393, 0.10309287160634995, -0.20055460929870605, -0.03510191664099693, 0.17629754543304443, 0.052008360624313354, 0.0946316346526146, 0.15550369024276733, -0.1755795031785965, 0.10137513279914856, 0.045861609280109406, -0.14114399254322052, 0.0022987937554717064, 0.07613326609134674, -0.038731157779693604, 0.05342260003089905, -0.04317561909556389, 0.1959792822599411, 0.05382094159722328, -0.07498813420534134, -0.15774580836296082, 0.24470534920692444, -0.21789175271987915, -0.06742583960294724, 0.1491350531578064, -0.12998884916305542, -0.22950635850429535, -0.27485939860343933, -0.0053348783403635025, 0.4810558259487152, 0.2614429295063019, -0.04615040495991707, 0.11032138764858246, -0.08802977204322815, -0.03160053864121437, 0.07659154385328293, 0.14708901941776276, -0.012321138754487038, 0.08661593496799469, -0.14593565464019775, 0.11488931626081467, 0.13687576353549957, -0.019482076168060303, 0.008436925709247589, 0.18419241905212402, 0.025657258927822113, -0.009564217180013657, 0.029353003948926926, 0.0339946448802948, -0.1796373575925827, 0.053128909319639206, -0.1290009319782257, -0.0052424268797039986, 0.0339067243039608, 0.026141874492168427, -0.008638044819235802, 0.0730304941534996, -0.109834223985672, 0.050897207111120224, -0.0407072938978672, -0.11535210907459259, -0.17014704644680023, 0.06396828591823578, -0.14231471717357635, 0.00870824046432972, 0.1259312778711319, -0.2811643183231354, 0.10566959530115128, 0.15384931862354279, -0.03557305037975311, 0.15394377708435059, 0.02726718783378601, 0.11716260015964508, -0.02070615440607071, -0.08467008918523788, -0.15535524487495422, -0.07068952172994614, 0.018506597727537155, -0.03965948522090912, 0.06843733787536621, -0.019966265186667442]\n"
     ]
    }
   ],
   "source": [
    "def encode_image(image_path):\n",
    "    try:\n",
    "        image=face_recognition.load_image_file(image_path)\n",
    "    except FileNotFoundError:\n",
    "        print(\"File Not Found at: \" + image_path)\n",
    "        return np.zeros(128).tolist()\n",
    "    face_encoding=face_recognition.face_encodings(image)\n",
    "    if not face_encoding:\n",
    "        print(\"No Face Found at \" + image_path)\n",
    "        return np.zeros(128).tolist()\n",
    "    return face_encoding[0].tolist()\n",
    "\n",
    "face_encoding=encode_image(\"E:/Face_2_BMI_Estimation_Project/Data/all_celeb/images/f_022.jpg\")\n",
    "#face_encoding=encode_image(\"E:/Face_2_BMI_Estimation_Project/Data/Test/no_face.png\")\n",
    "\n",
    "print(face_encoding)"
   ]
  },
  {
   "cell_type": "markdown",
   "metadata": {},
   "source": [
    "converting all images to face encoding"
   ]
  },
  {
   "cell_type": "code",
   "execution_count": 148,
   "metadata": {},
   "outputs": [],
   "source": [
    "import os\n",
    "face_data=[]\n",
    "#print(data.image)\n",
    "for image_name in data.image:\n",
    "    if os.path.exists(\"E:/Face_2_BMI_Estimation_Project/Data/all_celeb/images/\" + image_name + \".jpg\"):\n",
    "        face_encoding=encode_image(\"E:/Face_2_BMI_Estimation_Project/Data/all_celeb/images/\" + image_name + \".jpg\")\n",
    "        face_data.append(face_encoding)\n",
    "    elif os.path.exists(\"E:/Face_2_BMI_Estimation_Project/Data/all_celeb/images/\" + image_name + \".jpeg\"):\n",
    "        face_encoding=encode_image(\"E:/Face_2_BMI_Estimation_Project/Data/all_celeb/images/\" + image_name + \".jpeg\")\n",
    "        face_data.append(face_encoding)\n",
    "    elif os.path.exists(\"E:/Face_2_BMI_Estimation_Project/Data/all_celeb/images/\" + image_name + \".png\"):\n",
    "        face_encoding=encode_image(\"E:/Face_2_BMI_Estimation_Project/Data/all_celeb/images/\" + image_name + \".png\")\n",
    "        face_data.append(face_encoding)"
   ]
  },
  {
   "cell_type": "code",
   "execution_count": 149,
   "metadata": {},
   "outputs": [],
   "source": [
    "X=np.array(face_data)\n",
    "y_height=data.height.values\n",
    "y_weight=data.weight.values\n",
    "y_BMI=data.BMI.values\n",
    "#plotX=pd.DataFrame(X)"
   ]
  },
  {
   "cell_type": "markdown",
   "metadata": {},
   "source": [
    "# Model Creation"
   ]
  },
  {
   "cell_type": "markdown",
   "metadata": {},
   "source": [
    "Spliting Data"
   ]
  },
  {
   "cell_type": "code",
   "execution_count": 150,
   "metadata": {},
   "outputs": [],
   "source": [
    "from sklearn.model_selection import train_test_split\n",
    "X_train, X_test, y_height_train, y_height_test, y_weight_train, y_weight_test, y_BMI_train, y_BMI_test = train_test_split(X, y_height, y_weight, y_BMI, random_state=1)"
   ]
  },
  {
   "cell_type": "code",
   "execution_count": 19,
   "metadata": {},
   "outputs": [],
   "source": [
    "from sklearn.metrics import mean_squared_error\n",
    "from sklearn.metrics import r2_score\n",
    "def report_goodness(model, X_test, y_test, predictor_log=True):\n",
    "    # Make predictions using the testing set\n",
    "    y_pred = model.predict(X_test)\n",
    "    y_true = y_test\n",
    "\n",
    "    if predictor_log:\n",
    "        y_true = np.log(y_test)\n",
    "    # The coefficients\n",
    "    # The mean squared error\n",
    "    #print(\"Mean squared error: %.2f\"      % mean_squared_error(y_true, y_pred))\n",
    "    # Explained variance score: 1 is perfect prediction\n",
    "    print('Variance score: %.2f' % r2_score(y_true, y_pred))\n",
    "    \n",
    "    errors = abs(y_pred - y_true)\n",
    "    mape = 100 * np.mean(errors / y_true)\n",
    "    accuracy = 100 - mape\n",
    "    print('Model Performance')\n",
    "    print('Average Error: {:0.4f} degrees.'.format(np.mean(errors)))\n",
    "    print('Accuracy = {:0.2f}%.'.format(accuracy))"
   ]
  },
  {
   "cell_type": "code",
   "execution_count": 151,
   "metadata": {},
   "outputs": [],
   "source": [
    "from sklearn.kernel_ridge import KernelRidge\n",
    "from sklearn import  linear_model\n",
    "from sklearn.svm import SVR\n",
    "from sklearn.linear_model import Ridge\n",
    "from sklearn.ensemble import RandomForestRegressor\n",
    "import joblib"
   ]
  },
  {
   "attachments": {},
   "cell_type": "markdown",
   "metadata": {},
   "source": [
    "## Simple Linear Regression"
   ]
  },
  {
   "cell_type": "code",
   "execution_count": 21,
   "metadata": {},
   "outputs": [
    {
     "name": "stdout",
     "output_type": "stream",
     "text": [
      "Variance score: 0.64\n",
      "Model Performance\n",
      "Average Error: 0.0352 degrees.\n",
      "Accuracy = 82.21%.\n"
     ]
    }
   ],
   "source": [
    "#Height Estimation\n",
    "model_height = linear_model.LinearRegression()\n",
    "model_height = model_height.fit(X_train, np.log(y_height_train))\n",
    "report_goodness(model_height, X_test, y_height_test)"
   ]
  },
  {
   "cell_type": "code",
   "execution_count": 22,
   "metadata": {},
   "outputs": [
    {
     "name": "stdout",
     "output_type": "stream",
     "text": [
      "Variance score: -171.82\n",
      "Model Performance\n",
      "Average Error: 3.5628 degrees.\n",
      "Accuracy = 12.30%.\n"
     ]
    }
   ],
   "source": [
    "#Weight Estimation\n",
    "model_weight = linear_model.LinearRegression()\n",
    "model_weight = model_weight.fit(X_train,np.log(y_weight_train))\n",
    "report_goodness(model_height,X_test,y_weight_test)"
   ]
  },
  {
   "cell_type": "code",
   "execution_count": 23,
   "metadata": {},
   "outputs": [
    {
     "name": "stdout",
     "output_type": "stream",
     "text": [
      "Variance score: -241.55\n",
      "Model Performance\n",
      "Average Error: 2.5762 degrees.\n",
      "Accuracy = 16.29%.\n"
     ]
    },
    {
     "data": {
      "text/plain": [
       "['E:/Face_2_BMI_Estimation_Project/models/linear_bmi_predictor1.model']"
      ]
     },
     "execution_count": 23,
     "metadata": {},
     "output_type": "execute_result"
    }
   ],
   "source": [
    "#BMI Estimation\n",
    "model_BMI = linear_model.LinearRegression()\n",
    "model_BMI = model_BMI.fit(X_train,np.log(y_BMI_train))\n",
    "report_goodness(model_height,X_test,y_BMI_test)\n",
    "\n",
    "#saving model\n",
    "bmi_model = 'E:/Face_2_BMI_Estimation_Project/models/linear_bmi_predictor1.model'\n",
    "joblib.dump(model_BMI, bmi_model)"
   ]
  },
  {
   "attachments": {},
   "cell_type": "markdown",
   "metadata": {},
   "source": [
    "## Ridge Linear Regression"
   ]
  },
  {
   "cell_type": "code",
   "execution_count": 24,
   "metadata": {},
   "outputs": [
    {
     "name": "stdout",
     "output_type": "stream",
     "text": [
      "Variance score: 0.61\n",
      "Model Performance\n",
      "Average Error: 0.0373 degrees.\n",
      "Accuracy = 81.35%.\n"
     ]
    }
   ],
   "source": [
    "#Estimating Height\n",
    "\n",
    "from sklearn.pipeline import make_pipeline\n",
    "from sklearn.preprocessing import StandardScaler\n",
    "model_height = make_pipeline(StandardScaler(with_mean=False), Ridge(fit_intercept=True, alpha=0.0015, random_state=4))\n",
    "model_height = model_height.fit(X_train, np.log(y_height_train))\n",
    "report_goodness(model_height, X_test, y_height_test)"
   ]
  },
  {
   "cell_type": "code",
   "execution_count": 25,
   "metadata": {},
   "outputs": [
    {
     "name": "stdout",
     "output_type": "stream",
     "text": [
      "Variance score: 0.73\n",
      "Model Performance\n",
      "Average Error: 0.1064 degrees.\n",
      "Accuracy = 97.27%.\n"
     ]
    }
   ],
   "source": [
    "#Estimating Weight\n",
    "model_weight = make_pipeline(StandardScaler(with_mean=False), Ridge(fit_intercept=True, alpha=0.0015, random_state=4))\n",
    "model_weight = model_weight.fit(X_train,np.log(y_weight_train))\n",
    "report_goodness(model_weight,X_test,y_weight_test)"
   ]
  },
  {
   "cell_type": "code",
   "execution_count": 26,
   "metadata": {},
   "outputs": [
    {
     "name": "stdout",
     "output_type": "stream",
     "text": [
      "Variance score: 0.54\n",
      "Model Performance\n",
      "Average Error: 0.0878 degrees.\n",
      "Accuracy = 97.11%.\n"
     ]
    },
    {
     "data": {
      "text/plain": [
       "['E:/Face_2_BMI_Estimation_Project/models/ridge_bmi_predictor1.model']"
      ]
     },
     "execution_count": 26,
     "metadata": {},
     "output_type": "execute_result"
    }
   ],
   "source": [
    "#Estimating BMI\n",
    "model_BMI = make_pipeline(StandardScaler(with_mean=True), Ridge(fit_intercept=True, alpha=0.0015, random_state=4))\n",
    "model_BMI = model_BMI.fit(X_train, np.log(y_BMI_train))\n",
    "report_goodness(model_BMI, X_test, y_BMI_test)\n",
    "\n",
    "#saving model\n",
    "bmi_model = 'E:/Face_2_BMI_Estimation_Project/models/ridge_bmi_predictor1.model'\n",
    "joblib.dump(model_BMI, bmi_model)"
   ]
  },
  {
   "attachments": {},
   "cell_type": "markdown",
   "metadata": {},
   "source": [
    "## Random Forest Regressor"
   ]
  },
  {
   "cell_type": "code",
   "execution_count": 152,
   "metadata": {},
   "outputs": [
    {
     "name": "stdout",
     "output_type": "stream",
     "text": [
      "Variance score: 0.43\n",
      "Model Performance\n",
      "Average Error: 0.0389 degrees.\n",
      "Accuracy = 91.53%.\n"
     ]
    }
   ],
   "source": [
    "model_height = RandomForestRegressor(max_depth=2, random_state=0, n_estimators=100)\n",
    "model_height = model_height.fit(X_train,np.log(y_height_train))\n",
    "report_goodness(model_height, X_test, y_height_test)"
   ]
  },
  {
   "cell_type": "code",
   "execution_count": 154,
   "metadata": {},
   "outputs": [],
   "source": [
    "#With Hyperparamter Tuning\n",
    "from sklearn.model_selection import RandomizedSearchCV\n",
    "# Number of trees in random forest\n",
    "n_estimators = [int(x) for x in np.linspace(start = 10, stop = 1000, num = 10)]\n",
    "# Number of features to consider at every split\n",
    "max_features = ['auto', 'sqrt']\n",
    "# Maximum number of levels in tree\n",
    "max_depth = [int(x) for x in np.linspace(10, 100, num = 11)]\n",
    "max_depth.append(None)\n",
    "# Minimum number of samples required to split a node\n",
    "min_samples_split = [2, 5, 10]\n",
    "# Minimum number of samples required at each leaf node\n",
    "min_samples_leaf = [1, 2, 4]\n",
    "# Method of selecting samples for training each tree\n",
    "bootstrap = [True, False]\n",
    "# Create the random grid\n",
    "random_grid = {'n_estimators': n_estimators,\n",
    "               'max_features': max_features,\n",
    "               'max_depth': max_depth,\n",
    "               'min_samples_split': min_samples_split,\n",
    "               'min_samples_leaf': min_samples_leaf,\n",
    "               'bootstrap': bootstrap}\n",
    "rf = RandomForestRegressor()"
   ]
  },
  {
   "cell_type": "code",
   "execution_count": 155,
   "metadata": {},
   "outputs": [
    {
     "name": "stdout",
     "output_type": "stream",
     "text": [
      "Fitting 3 folds for each of 100 candidates, totalling 300 fits\n",
      "Variance score: 0.74\n",
      "Model Performance\n",
      "Average Error: 0.0252 degrees.\n",
      "Accuracy = 94.48%.\n"
     ]
    }
   ],
   "source": [
    "rf_height_model = RandomizedSearchCV(estimator=rf, param_distributions=random_grid, n_iter=100, cv=3, verbose=2, random_state=42, n_jobs=-1)\n",
    "# Fit the random search model\n",
    "rf_height_model.fit(X_train,np.log(y_height_train))\n",
    "report_goodness(rf_height_model, X_test, y_height_test)"
   ]
  },
  {
   "cell_type": "code",
   "execution_count": 156,
   "metadata": {},
   "outputs": [
    {
     "name": "stdout",
     "output_type": "stream",
     "text": [
      "Variance score: 0.52\n",
      "Model Performance\n",
      "Average Error: 0.1106 degrees.\n",
      "Accuracy = 97.17%.\n"
     ]
    }
   ],
   "source": [
    "model_weight = RandomForestRegressor(max_depth=2, random_state=0, n_estimators=100)\n",
    "model_weight = model_weight.fit(X_train, np.log(y_weight_train))\n",
    "report_goodness(model_weight, X_test, y_weight_test)"
   ]
  },
  {
   "cell_type": "code",
   "execution_count": 157,
   "metadata": {},
   "outputs": [
    {
     "name": "stdout",
     "output_type": "stream",
     "text": [
      "Fitting 3 folds for each of 100 candidates, totalling 300 fits\n",
      "Variance score: 0.79\n",
      "Model Performance\n",
      "Average Error: 0.0693 degrees.\n",
      "Accuracy = 98.22%.\n"
     ]
    }
   ],
   "source": [
    "rf_weight_model = RandomizedSearchCV(estimator=rf, param_distributions=random_grid, n_iter=100, cv=3, verbose=2, random_state=42, n_jobs=-1)\n",
    "# Fit the random search model\n",
    "rf_weight_model.fit(X_train,np.log(y_weight_train))\n",
    "report_goodness(rf_weight_model,X_test,y_weight_test)"
   ]
  },
  {
   "cell_type": "code",
   "execution_count": 158,
   "metadata": {},
   "outputs": [
    {
     "name": "stdout",
     "output_type": "stream",
     "text": [
      "Variance score: 0.38\n",
      "Model Performance\n",
      "Average Error: 0.0899 degrees.\n",
      "Accuracy = 97.01%.\n"
     ]
    }
   ],
   "source": [
    "model_BMI = RandomForestRegressor(max_depth=2, random_state=0, n_estimators=100)\n",
    "model_BMI = model_BMI.fit(X_train, np.log(y_BMI_train))\n",
    "report_goodness(model_BMI, X_test, y_BMI_test)"
   ]
  },
  {
   "cell_type": "code",
   "execution_count": 159,
   "metadata": {},
   "outputs": [
    {
     "name": "stdout",
     "output_type": "stream",
     "text": [
      "Fitting 3 folds for each of 100 candidates, totalling 300 fits\n",
      "Variance score: 0.72\n",
      "Model Performance\n",
      "Average Error: 0.0588 degrees.\n",
      "Accuracy = 98.03%.\n"
     ]
    }
   ],
   "source": [
    "rf_BMI_model = RandomizedSearchCV(estimator=rf, param_distributions=random_grid, n_iter=100, cv=3, verbose=2, random_state=42, n_jobs=-1)\n",
    "# Fit the random search model\n",
    "rf_BMI_model.fit(X_train,np.log(y_BMI_train))\n",
    "report_goodness(rf_BMI_model, X_test, y_BMI_test)"
   ]
  },
  {
   "attachments": {},
   "cell_type": "markdown",
   "metadata": {},
   "source": [
    "## SVR"
   ]
  },
  {
   "cell_type": "code",
   "execution_count": 34,
   "metadata": {},
   "outputs": [
    {
     "name": "stdout",
     "output_type": "stream",
     "text": [
      "Variance score: 0.50\n",
      "Model Performance\n",
      "Average Error: 0.0502 degrees.\n",
      "Accuracy = 80.36%.\n"
     ]
    }
   ],
   "source": [
    "from sklearn.svm import SVR\n",
    "\n",
    "model_height=SVR(kernel='rbf')\n",
    "model_height=model_height.fit(X_train, np.log(y_height_train) )\n",
    "report_goodness(model_height, X_test, y_height_test)"
   ]
  },
  {
   "cell_type": "code",
   "execution_count": 35,
   "metadata": {},
   "outputs": [
    {
     "name": "stdout",
     "output_type": "stream",
     "text": [
      "Variance score: 0.78\n",
      "Model Performance\n",
      "Average Error: 0.0872 degrees.\n",
      "Accuracy = 97.73%.\n"
     ]
    }
   ],
   "source": [
    "model_weight=SVR(kernel='rbf')\n",
    "model_weight=model_weight.fit(X_train, np.log(y_weight_train) )\n",
    "report_goodness(model_weight, X_test, y_weight_test)"
   ]
  },
  {
   "cell_type": "code",
   "execution_count": 36,
   "metadata": {},
   "outputs": [
    {
     "name": "stdout",
     "output_type": "stream",
     "text": [
      "Variance score: 0.65\n",
      "Model Performance\n",
      "Average Error: 0.0774 degrees.\n",
      "Accuracy = 97.46%.\n"
     ]
    }
   ],
   "source": [
    "model_BMI=SVR(kernel='rbf')\n",
    "model_BMI=model_BMI.fit(X_train, np.log(y_BMI_train) )\n",
    "report_goodness(model_BMI, X_test, y_BMI_test)"
   ]
  },
  {
   "cell_type": "code",
   "execution_count": 160,
   "metadata": {},
   "outputs": [
    {
     "data": {
      "text/plain": [
       "['E:/Face_2_BMI/models/rf_bmi_predictor1.model']"
      ]
     },
     "execution_count": 160,
     "metadata": {},
     "output_type": "execute_result"
    }
   ],
   "source": [
    "import joblib\n",
    "height_model = 'E:/Face_2_BMI/models/rf_height_predictor1.model'\n",
    "weight_model = 'E:/Face_2_BMI/models/rf_weight_predictor1.model'\n",
    "bmi_model = 'E:/Face_2_BMI/models/rf_bmi_predictor1.model'\n",
    "joblib.dump(rf_height_model, height_model)\n",
    "joblib.dump(rf_weight_model, weight_model)\n",
    "joblib.dump(rf_BMI_model, bmi_model)"
   ]
  },
  {
   "cell_type": "code",
   "execution_count": 161,
   "metadata": {},
   "outputs": [],
   "source": [
    "#load model from disk\n",
    "import joblib\n",
    "height_model = 'E:/Face_2_BMI/models/rf_height_predictor1.model'\n",
    "weight_model = 'E:/Face_2_BMI/models/rf_weight_predictor1.model'\n",
    "bmi_model = 'E:/Face_2_BMI/models/rf_bmi_predictor1.model'\n",
    "height_model = joblib.load(height_model)\n",
    "weight_model = joblib.load(weight_model)\n",
    "bmi_model = joblib.load(bmi_model)"
   ]
  },
  {
   "cell_type": "code",
   "execution_count": 162,
   "metadata": {},
   "outputs": [],
   "source": [
    "def predict_height_width_BMI(test_image,height_model,weight_model,bmi_model):\n",
    "    test_array = np.expand_dims(np.array(encode_image(test_image)),axis=0)\n",
    "    height = np.ndarray.item(np.exp(height_model.predict(test_array)))\n",
    "    weight = np.ndarray.item(np.exp(weight_model.predict(test_array)))\n",
    "    bmi = np.ndarray.item(np.exp(bmi_model.predict(test_array)))\n",
    "    return {'height':height,'weight':weight,'bmi':bmi}\n",
    "    "
   ]
  },
  {
   "cell_type": "code",
   "execution_count": 141,
   "metadata": {},
   "outputs": [],
   "source": [
    "from PIL import Image\n",
    "\n",
    "# Load image\n",
    "image = Image.open('E:/Face_2_BMI/Data/Test/leela.jpeg')\n",
    "\n",
    "# Resize image\n",
    "resized_image = image.resize((200,200))\n",
    "\n",
    "# Display resized image\n",
    "resized_image.save('E:/Face_2_BMI/Data/Test/leela.jpeg')"
   ]
  },
  {
   "cell_type": "code",
   "execution_count": 163,
   "metadata": {},
   "outputs": [
    {
     "data": {
      "image/jpeg": "[encoded data removed]",
      "text/plain": [
       "<IPython.core.display.Image object>"
      ]
     },
     "execution_count": 163,
     "metadata": {},
     "output_type": "execute_result"
    }
   ],
   "source": [
    "from IPython.display import Image\n",
    "test_image= 'E:/Face_2_BMI/Data/Test/jyothirmai_2.jpeg' \n",
    "Image(test_image)"
   ]
  },
  {
   "cell_type": "code",
   "execution_count": 164,
   "metadata": {},
   "outputs": [
    {
     "name": "stdout",
     "output_type": "stream",
     "text": [
      "{'height': 1.6663541083123128, 'weight': 65.57553831642177, 'bmi': 24.110407148193893}\n"
     ]
    }
   ],
   "source": [
    "if(encode_image(test_image)==np.zeros(128).tolist()):\n",
    "    print(\"Face Not Found\")\n",
    "else:\n",
    "    print(predict_height_width_BMI(test_image,height_model,weight_model,bmi_model))"
   ]
  },
  {
   "cell_type": "code",
   "execution_count": 165,
   "metadata": {},
   "outputs": [
    {
     "data": {
      "image/jpeg": "[encoded data removed]",
      "text/plain": [
       "<IPython.core.display.Image object>"
      ]
     },
     "execution_count": 165,
     "metadata": {},
     "output_type": "execute_result"
    }
   ],
   "source": [
    "from IPython.display import Image\n",
    "test_image= 'E:/Face_2_BMI/Data/Test/flower.jpg' \n",
    "Image(test_image)"
   ]
  },
  {
   "cell_type": "code",
   "execution_count": 166,
   "metadata": {},
   "outputs": [
    {
     "name": "stdout",
     "output_type": "stream",
     "text": [
      "No Face Found at E:/Face_2_BMI/Data/Test/flower.jpg\n",
      "Face Not Found\n"
     ]
    }
   ],
   "source": [
    "if(encode_image(test_image)==np.zeros(128).tolist()):\n",
    "    print(\"Face Not Found\")\n",
    "else:\n",
    "    print(predict_height_width_BMI(test_image,height_model,weight_model,bmi_model))"
   ]
  },
  {
   "cell_type": "code",
   "execution_count": 167,
   "metadata": {},
   "outputs": [
    {
     "data": {
      "image/jpeg": "[encoded data removed]",
      "text/plain": [
       "<IPython.core.display.Image object>"
      ]
     },
     "execution_count": 167,
     "metadata": {},
     "output_type": "execute_result"
    }
   ],
   "source": [
    "from IPython.display import Image\n",
    "test_image= 'E:/Face_2_BMI/Data/Test/mano_teja.jpeg' \n",
    "Image(test_image)"
   ]
  },
  {
   "cell_type": "code",
   "execution_count": 168,
   "metadata": {},
   "outputs": [
    {
     "name": "stdout",
     "output_type": "stream",
     "text": [
      "{'height': 1.6608985880267766, 'weight': 70.0029865514059, 'bmi': 26.551002268267904}\n"
     ]
    }
   ],
   "source": [
    "if(encode_image(test_image)==np.zeros(128).tolist()):\n",
    "    print(\"Face Not Found\")\n",
    "else:\n",
    "    print(predict_height_width_BMI(test_image,height_model,weight_model,bmi_model))"
   ]
  },
  {
   "cell_type": "code",
   "execution_count": 169,
   "metadata": {},
   "outputs": [
    {
     "data": {
      "image/jpeg": "[encoded data removed]",
      "text/plain": [
       "<IPython.core.display.Image object>"
      ]
     },
     "execution_count": 169,
     "metadata": {},
     "output_type": "execute_result"
    }
   ],
   "source": [
    "from IPython.display import Image\n",
    "test_image= 'E:/Face_2_BMI/Data/Test/charitha.jpeg' \n",
    "Image(test_image)"
   ]
  },
  {
   "cell_type": "code",
   "execution_count": 170,
   "metadata": {},
   "outputs": [
    {
     "name": "stdout",
     "output_type": "stream",
     "text": [
      "{'height': 1.5822702695635515, 'weight': 74.04039422970497, 'bmi': 30.016637610079755}\n"
     ]
    }
   ],
   "source": [
    "if(encode_image(test_image)==np.zeros(128).tolist()):\n",
    "    print(\"Face Not Found\")\n",
    "else:\n",
    "    print(predict_height_width_BMI(test_image,height_model,weight_model,bmi_model))"
   ]
  },
  {
   "cell_type": "code",
   "execution_count": 171,
   "metadata": {},
   "outputs": [
    {
     "data": {
      "image/jpeg": "[encoded data removed]",
      "text/plain": [
       "<IPython.core.display.Image object>"
      ]
     },
     "execution_count": 171,
     "metadata": {},
     "output_type": "execute_result"
    }
   ],
   "source": [
    "from IPython.display import Image\n",
    "test_image= 'E:/Face_2_BMI/Data/Test/vamsi.jpeg' \n",
    "Image(test_image)"
   ]
  },
  {
   "cell_type": "code",
   "execution_count": 172,
   "metadata": {},
   "outputs": [
    {
     "name": "stdout",
     "output_type": "stream",
     "text": [
      "{'height': 1.7102390318969871, 'weight': 68.4455508059516, 'bmi': 23.659234920734953}\n"
     ]
    }
   ],
   "source": [
    "if(encode_image(test_image)==np.zeros(128).tolist()):\n",
    "    print(\"Face Not Found\")\n",
    "else:\n",
    "    print(predict_height_width_BMI(test_image,height_model,weight_model,bmi_model))"
   ]
  },
  {
   "cell_type": "code",
   "execution_count": 129,
   "metadata": {},
   "outputs": [
    {
     "data": {
      "image/jpeg": "[encoded data removed]",
      "text/plain": [
       "<IPython.core.display.Image object>"
      ]
     },
     "execution_count": 129,
     "metadata": {},
     "output_type": "execute_result"
    }
   ],
   "source": [
    "from IPython.display import Image\n",
    "test_image= 'E:/Face_2_BMI/Data/Test/bhavya.jpeg' \n",
    "Image(test_image)"
   ]
  },
  {
   "cell_type": "code",
   "execution_count": 130,
   "metadata": {},
   "outputs": [
    {
     "name": "stdout",
     "output_type": "stream",
     "text": [
      "{'height': 1.594495116422642, 'weight': 54.15399302332071, 'bmi': 21.187417572116235}\n"
     ]
    }
   ],
   "source": [
    "if(encode_image(test_image)==np.zeros(128).tolist()):\n",
    "    print(\"Face Not Found\")\n",
    "else:\n",
    "    print(predict_height_width_BMI(test_image,height_model,weight_model,bmi_model))"
   ]
  },
  {
   "cell_type": "code",
   "execution_count": 94,
   "metadata": {},
   "outputs": [
    {
     "data": {
      "image/jpeg": "[encoded data removed]",
      "text/plain": [
       "<IPython.core.display.Image object>"
      ]
     },
     "execution_count": 94,
     "metadata": {},
     "output_type": "execute_result"
    }
   ],
   "source": [
    "from IPython.display import Image\n",
    "test_image= 'E:/Face_2_BMI/Data/Test/mythri2.jpeg' \n",
    "Image(test_image)"
   ]
  },
  {
   "cell_type": "code",
   "execution_count": 95,
   "metadata": {},
   "outputs": [
    {
     "name": "stdout",
     "output_type": "stream",
     "text": [
      "{'height': 1.6352148116067493, 'weight': 59.31549064863713, 'bmi': 22.122049661735954}\n"
     ]
    }
   ],
   "source": [
    "if(encode_image(test_image)==np.zeros(128).tolist()):\n",
    "    print(\"Face Not Found\")\n",
    "else:\n",
    "    print(predict_height_width_BMI(test_image,height_model,weight_model,bmi_model))"
   ]
  },
  {
   "cell_type": "code",
   "execution_count": 142,
   "metadata": {},
   "outputs": [
    {
     "data": {
      "image/jpeg": "[encoded data removed]",
      "text/plain": [
       "<IPython.core.display.Image object>"
      ]
     },
     "execution_count": 142,
     "metadata": {},
     "output_type": "execute_result"
    }
   ],
   "source": [
    "from IPython.display import Image\n",
    "test_image= 'E:/Face_2_BMI/Data/Test/leela.jpeg' \n",
    "Image(test_image)"
   ]
  },
  {
   "cell_type": "code",
   "execution_count": 143,
   "metadata": {},
   "outputs": [
    {
     "name": "stdout",
     "output_type": "stream",
     "text": [
      "{'height': 1.609916275660908, 'weight': 53.97658211944636, 'bmi': 21.25007135364765}\n"
     ]
    }
   ],
   "source": [
    "if(encode_image(test_image)==np.zeros(128).tolist()):\n",
    "    print(\"Face Not Found\")\n",
    "else:\n",
    "    print(predict_height_width_BMI(test_image,height_model,weight_model,bmi_model))"
   ]
  }
 ],
 "metadata": {
  "kernelspec": {
   "display_name": "Python 3",
   "language": "python",
   "name": "python3"
  },
  "language_info": {
   "codemirror_mode": {
    "name": "ipython",
    "version": 3
   },
   "file_extension": ".py",
   "mimetype": "text/x-python",
   "name": "python",
   "nbconvert_exporter": "python",
   "pygments_lexer": "ipython3",
   "version": "3.10.5"
  },
  "orig_nbformat": 4,
  "vscode": {
   "interpreter": {
    "hash": "de43ddd16f89549b07e1c7414eaa955d441f85ccb0bfd05123f26dd8a1770847"
   }
  }
 },
 "nbformat": 4,
 "nbformat_minor": 2
}
